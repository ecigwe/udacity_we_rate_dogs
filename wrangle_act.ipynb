{
 "cells": [
  {
   "cell_type": "markdown",
   "id": "2cbf65e7",
   "metadata": {},
   "source": [
    "## Introduction\n",
    "\n",
    "### WeRateDogs Twitter Data Analysis : A Data Wrangling Project\n",
    "### by Igwe Emmanuel\n",
    "\n",
    "### Project Context\n",
    "\n",
    "### Project goal: \n",
    "WeRateDogs Twitter data can be manipulated to produce insightful and reliable analysis and visualizations. The Twitter archive is fantastic, but it only includes the most fundamental tweet details. Additional gathering, then assessing and cleaning is required for \"Wow!\"-worthy analyses and visualizations.\n",
    "\n",
    "### Dataset Description\n",
    "In this project, I will work on the following three datasets.\n",
    "\n",
    "### Enhanced Twitter Archive\n",
    "The WeRateDogs Twitter archive contains basic tweet data for all 5000+ of their tweets, but not everything. One column the archive does contain though: each tweet's text, which was used to extract rating, dog name, and dog \"stage\" (i.e. doggo, floofer, pupper, and puppo) to make this Twitter archive \"enhanced.\" Of the 5000+ tweets, it was filtered for tweets with ratings only (there are 2356). This data was extracted programmatically, but didn't do a very good job. The ratings probably aren't all correct. Same goes for the dog names and probably dog stages too. Further assessing and cleaning would be done on these columns before using them for analysis and visualization.\n",
    "\n",
    "### Additional Data via the Twitter API\n",
    "Back to the basic-ness of Twitter archives: retweet count and favorite count are two of the notable column omissions. Fortunately, this additional data can be gathered by anyone from Twitter's API. Well, \"anyone\" who has access to data for the 3000 most recent tweets, at least. Since WeRateDogs Twitter archive has been provided and specifically the tweet IDs within it, can gather this data for all 5000+.\n",
    "\n",
    "### Image Predictions File\n",
    "One more cool thing: Every image in the WeRateDogs Twitter archive were run through a neural network that can classify breeds of dogs*. The results: a table full of image predictions (the top three only) alongside each tweet ID, image URL, and the image number that corresponded to the most confident prediction (numbered 1 to 4 since tweets can have up to four images).\n",
    "\n",
    "Definition for the predictions columns\n",
    "\n",
    "p1 is the algorithm's #1 prediction for the image in the tweet\n",
    "p1_conf is how confident the algorithm is in its #1 prediction\n",
    "p1_dog is whether or not the #1 prediction is a breed of dog\n",
    "p2 is the algorithm's second most likely prediction\n",
    "p2_conf is how confident the algorithm is in its #2 prediction\n",
    "p2_dog is whether or not the #2 prediction is a breed of dog etc.\n",
    "This Project Analysis would be done using Python withe the aid of some of its packages, which would be imported"
   ]
  },
  {
   "cell_type": "code",
   "execution_count": 2,
   "id": "e485ca10",
   "metadata": {},
   "outputs": [],
   "source": [
    "import pandas as pd\n",
    "import numpy as np\n",
    "import requests\n",
    "import json\n",
    "import tweepy\n",
    "from tweepy import OAuthHandler\n",
    "import json\n",
    "import time\n",
    "from timeit import default_timer as timer\n",
    "import matplotlib.pyplot as plt\n",
    "%matplotlib inline\n",
    "import warnings\n",
    "warnings.filterwarnings(\"ignore\")\n",
    "\n",
    "\n",
    "\n"
   ]
  },
  {
   "cell_type": "markdown",
   "id": "2cb6ff3f",
   "metadata": {},
   "source": [
    "# Data Gathering "
   ]
  },
  {
   "cell_type": "markdown",
   "id": "e09c2d6e",
   "metadata": {},
   "source": [
    "### 1. Read data in twitter-archive-enhanced using read_csv"
   ]
  },
  {
   "cell_type": "code",
   "execution_count": 4,
   "id": "26b9abfb",
   "metadata": {},
   "outputs": [],
   "source": [
    "# Reading WeRateDogs Twitter archive data (twitter_archive_enhanced.csv) to a dataframe\n",
    "\n",
    "df_1 = pd.read_csv('twitter-archive-enhanced.csv')"
   ]
  },
  {
   "cell_type": "code",
   "execution_count": 5,
   "id": "e3220ef0",
   "metadata": {},
   "outputs": [
    {
     "data": {
      "text/html": [
       "<div>\n",
       "<style scoped>\n",
       "    .dataframe tbody tr th:only-of-type {\n",
       "        vertical-align: middle;\n",
       "    }\n",
       "\n",
       "    .dataframe tbody tr th {\n",
       "        vertical-align: top;\n",
       "    }\n",
       "\n",
       "    .dataframe thead th {\n",
       "        text-align: right;\n",
       "    }\n",
       "</style>\n",
       "<table border=\"1\" class=\"dataframe\">\n",
       "  <thead>\n",
       "    <tr style=\"text-align: right;\">\n",
       "      <th></th>\n",
       "      <th>tweet_id</th>\n",
       "      <th>in_reply_to_status_id</th>\n",
       "      <th>in_reply_to_user_id</th>\n",
       "      <th>timestamp</th>\n",
       "      <th>source</th>\n",
       "      <th>text</th>\n",
       "      <th>retweeted_status_id</th>\n",
       "      <th>retweeted_status_user_id</th>\n",
       "      <th>retweeted_status_timestamp</th>\n",
       "      <th>expanded_urls</th>\n",
       "      <th>rating_numerator</th>\n",
       "      <th>rating_denominator</th>\n",
       "      <th>name</th>\n",
       "      <th>doggo</th>\n",
       "      <th>floofer</th>\n",
       "      <th>pupper</th>\n",
       "      <th>puppo</th>\n",
       "    </tr>\n",
       "  </thead>\n",
       "  <tbody>\n",
       "    <tr>\n",
       "      <th>0</th>\n",
       "      <td>892420643555336193</td>\n",
       "      <td>NaN</td>\n",
       "      <td>NaN</td>\n",
       "      <td>2017-08-01 16:23:56 +0000</td>\n",
       "      <td>&lt;a href=\"http://twitter.com/download/iphone\" r...</td>\n",
       "      <td>This is Phineas. He's a mystical boy. Only eve...</td>\n",
       "      <td>NaN</td>\n",
       "      <td>NaN</td>\n",
       "      <td>NaN</td>\n",
       "      <td>https://twitter.com/dog_rates/status/892420643...</td>\n",
       "      <td>13</td>\n",
       "      <td>10</td>\n",
       "      <td>Phineas</td>\n",
       "      <td>None</td>\n",
       "      <td>None</td>\n",
       "      <td>None</td>\n",
       "      <td>None</td>\n",
       "    </tr>\n",
       "    <tr>\n",
       "      <th>1</th>\n",
       "      <td>892177421306343426</td>\n",
       "      <td>NaN</td>\n",
       "      <td>NaN</td>\n",
       "      <td>2017-08-01 00:17:27 +0000</td>\n",
       "      <td>&lt;a href=\"http://twitter.com/download/iphone\" r...</td>\n",
       "      <td>This is Tilly. She's just checking pup on you....</td>\n",
       "      <td>NaN</td>\n",
       "      <td>NaN</td>\n",
       "      <td>NaN</td>\n",
       "      <td>https://twitter.com/dog_rates/status/892177421...</td>\n",
       "      <td>13</td>\n",
       "      <td>10</td>\n",
       "      <td>Tilly</td>\n",
       "      <td>None</td>\n",
       "      <td>None</td>\n",
       "      <td>None</td>\n",
       "      <td>None</td>\n",
       "    </tr>\n",
       "  </tbody>\n",
       "</table>\n",
       "</div>"
      ],
      "text/plain": [
       "             tweet_id  in_reply_to_status_id  in_reply_to_user_id  \\\n",
       "0  892420643555336193                    NaN                  NaN   \n",
       "1  892177421306343426                    NaN                  NaN   \n",
       "\n",
       "                   timestamp  \\\n",
       "0  2017-08-01 16:23:56 +0000   \n",
       "1  2017-08-01 00:17:27 +0000   \n",
       "\n",
       "                                              source  \\\n",
       "0  <a href=\"http://twitter.com/download/iphone\" r...   \n",
       "1  <a href=\"http://twitter.com/download/iphone\" r...   \n",
       "\n",
       "                                                text  retweeted_status_id  \\\n",
       "0  This is Phineas. He's a mystical boy. Only eve...                  NaN   \n",
       "1  This is Tilly. She's just checking pup on you....                  NaN   \n",
       "\n",
       "   retweeted_status_user_id retweeted_status_timestamp  \\\n",
       "0                       NaN                        NaN   \n",
       "1                       NaN                        NaN   \n",
       "\n",
       "                                       expanded_urls  rating_numerator  \\\n",
       "0  https://twitter.com/dog_rates/status/892420643...                13   \n",
       "1  https://twitter.com/dog_rates/status/892177421...                13   \n",
       "\n",
       "   rating_denominator     name doggo floofer pupper puppo  \n",
       "0                  10  Phineas  None    None   None  None  \n",
       "1                  10    Tilly  None    None   None  None  "
      ]
     },
     "execution_count": 5,
     "metadata": {},
     "output_type": "execute_result"
    }
   ],
   "source": [
    "# Checking to see if it was correctly done\n",
    "\n",
    "df_1.head(2)"
   ]
  },
  {
   "cell_type": "markdown",
   "id": "19b44044",
   "metadata": {},
   "source": [
    "### 2. Using Requests Library to download Tweet Image Prediction data\n"
   ]
  },
  {
   "cell_type": "code",
   "execution_count": 6,
   "id": "6fb99bd0",
   "metadata": {},
   "outputs": [],
   "source": [
    "# Storing url in a variable"
   ]
  },
  {
   "cell_type": "code",
   "execution_count": 3,
   "id": "0b8150ca",
   "metadata": {},
   "outputs": [],
   "source": [
    "url =  'https://d17h27t6h515a5.cloudfront.net/topher/2017/August/599fd2ad_image-predictions/image-predictions.tsv'"
   ]
  },
  {
   "cell_type": "code",
   "execution_count": 7,
   "id": "2e25f64f",
   "metadata": {},
   "outputs": [],
   "source": [
    "# Opening the file"
   ]
  },
  {
   "cell_type": "code",
   "execution_count": 4,
   "id": "9d8a5f9e",
   "metadata": {},
   "outputs": [
    {
     "data": {
      "text/plain": [
       "335079"
      ]
     },
     "execution_count": 4,
     "metadata": {},
     "output_type": "execute_result"
    }
   ],
   "source": [
    "r =  requests.get(url, allow_redirects = True)\n",
    "open('image-predictions.tsv', 'wb').write(r.content)"
   ]
  },
  {
   "cell_type": "code",
   "execution_count": 8,
   "id": "2e894704",
   "metadata": {},
   "outputs": [],
   "source": [
    "# Reading the file into a dataframe using pandas read_csv"
   ]
  },
  {
   "cell_type": "code",
   "execution_count": 27,
   "id": "db312db3",
   "metadata": {},
   "outputs": [],
   "source": [
    "df_2 = pd.read_csv('image-predictions.tsv', sep='\\t')"
   ]
  },
  {
   "cell_type": "code",
   "execution_count": 9,
   "id": "25c44039",
   "metadata": {},
   "outputs": [],
   "source": [
    "# Checking first two rows to see if it was correctly done"
   ]
  },
  {
   "cell_type": "code",
   "execution_count": 44,
   "id": "7600e01d",
   "metadata": {},
   "outputs": [
    {
     "data": {
      "text/html": [
       "<div>\n",
       "<style scoped>\n",
       "    .dataframe tbody tr th:only-of-type {\n",
       "        vertical-align: middle;\n",
       "    }\n",
       "\n",
       "    .dataframe tbody tr th {\n",
       "        vertical-align: top;\n",
       "    }\n",
       "\n",
       "    .dataframe thead th {\n",
       "        text-align: right;\n",
       "    }\n",
       "</style>\n",
       "<table border=\"1\" class=\"dataframe\">\n",
       "  <thead>\n",
       "    <tr style=\"text-align: right;\">\n",
       "      <th></th>\n",
       "      <th>tweet_id</th>\n",
       "      <th>jpg_url</th>\n",
       "      <th>img_num</th>\n",
       "      <th>p1</th>\n",
       "      <th>p1_conf</th>\n",
       "      <th>p1_dog</th>\n",
       "      <th>p2</th>\n",
       "      <th>p2_conf</th>\n",
       "      <th>p2_dog</th>\n",
       "      <th>p3</th>\n",
       "      <th>p3_conf</th>\n",
       "      <th>p3_dog</th>\n",
       "    </tr>\n",
       "  </thead>\n",
       "  <tbody>\n",
       "    <tr>\n",
       "      <th>0</th>\n",
       "      <td>666020888022790149</td>\n",
       "      <td>https://pbs.twimg.com/media/CT4udn0WwAA0aMy.jpg</td>\n",
       "      <td>1</td>\n",
       "      <td>Welsh_springer_spaniel</td>\n",
       "      <td>0.465074</td>\n",
       "      <td>True</td>\n",
       "      <td>collie</td>\n",
       "      <td>0.156665</td>\n",
       "      <td>True</td>\n",
       "      <td>Shetland_sheepdog</td>\n",
       "      <td>0.061428</td>\n",
       "      <td>True</td>\n",
       "    </tr>\n",
       "    <tr>\n",
       "      <th>1</th>\n",
       "      <td>666029285002620928</td>\n",
       "      <td>https://pbs.twimg.com/media/CT42GRgUYAA5iDo.jpg</td>\n",
       "      <td>1</td>\n",
       "      <td>redbone</td>\n",
       "      <td>0.506826</td>\n",
       "      <td>True</td>\n",
       "      <td>miniature_pinscher</td>\n",
       "      <td>0.074192</td>\n",
       "      <td>True</td>\n",
       "      <td>Rhodesian_ridgeback</td>\n",
       "      <td>0.072010</td>\n",
       "      <td>True</td>\n",
       "    </tr>\n",
       "  </tbody>\n",
       "</table>\n",
       "</div>"
      ],
      "text/plain": [
       "             tweet_id                                          jpg_url  \\\n",
       "0  666020888022790149  https://pbs.twimg.com/media/CT4udn0WwAA0aMy.jpg   \n",
       "1  666029285002620928  https://pbs.twimg.com/media/CT42GRgUYAA5iDo.jpg   \n",
       "\n",
       "   img_num                      p1   p1_conf  p1_dog                  p2  \\\n",
       "0        1  Welsh_springer_spaniel  0.465074    True              collie   \n",
       "1        1                 redbone  0.506826    True  miniature_pinscher   \n",
       "\n",
       "    p2_conf  p2_dog                   p3   p3_conf  p3_dog  \n",
       "0  0.156665    True    Shetland_sheepdog  0.061428    True  \n",
       "1  0.074192    True  Rhodesian_ridgeback  0.072010    True  "
      ]
     },
     "execution_count": 44,
     "metadata": {},
     "output_type": "execute_result"
    }
   ],
   "source": [
    "\n",
    "df_2.head(2)"
   ]
  },
  {
   "cell_type": "markdown",
   "id": "a785e73a",
   "metadata": {},
   "source": [
    "### 3.  Gathering additional data via Twitter API using Tweepy Library"
   ]
  },
  {
   "cell_type": "code",
   "execution_count": 34,
   "id": "0c97e5af",
   "metadata": {},
   "outputs": [],
   "source": [
    "# Query Twitter API for each tweet in the Twitter archive and save JSON in a text file\n",
    "# These are hidden to comply with Twitter's API terms and conditions\n",
    "consumer_key = '...'\n",
    "consumer_secret = '...'\n",
    "access_token = '...'\n",
    "access_secret = '...'\n",
    "\n"
   ]
  },
  {
   "cell_type": "code",
   "execution_count": 10,
   "id": "50ce4f6d",
   "metadata": {},
   "outputs": [],
   "source": [
    "# Importing packages"
   ]
  },
  {
   "cell_type": "code",
   "execution_count": 197,
   "id": "37320442",
   "metadata": {},
   "outputs": [],
   "source": [
    "auth = OAuthHandler(consumer_key, consumer_secret)\n",
    "auth.set_access_token(access_token, access_secret)\n",
    "\n",
    "api = tweepy.API(auth, wait_on_rate_limit=True)\n",
    "\n"
   ]
  },
  {
   "cell_type": "code",
   "execution_count": 11,
   "id": "c95b3347",
   "metadata": {},
   "outputs": [],
   "source": [
    "# declearing and assigning tweet_ids to df.tweet_id.values"
   ]
  },
  {
   "cell_type": "code",
   "execution_count": 37,
   "id": "71f676a3",
   "metadata": {},
   "outputs": [
    {
     "data": {
      "text/plain": [
       "2356"
      ]
     },
     "execution_count": 37,
     "metadata": {},
     "output_type": "execute_result"
    }
   ],
   "source": [
    "tweet_ids = df_1.tweet_id.values\n",
    "len(tweet_ids)\n"
   ]
  },
  {
   "cell_type": "code",
   "execution_count": 13,
   "id": "a4afd75c",
   "metadata": {},
   "outputs": [],
   "source": [
    "# checking the tweet id"
   ]
  },
  {
   "cell_type": "code",
   "execution_count": 38,
   "id": "991239e5",
   "metadata": {},
   "outputs": [
    {
     "data": {
      "text/plain": [
       "array([892420643555336193, 892177421306343426, 891815181378084864, ...,\n",
       "       666033412701032449, 666029285002620928, 666020888022790149],\n",
       "      dtype=int64)"
      ]
     },
     "execution_count": 38,
     "metadata": {},
     "output_type": "execute_result"
    }
   ],
   "source": [
    "tweet_ids"
   ]
  },
  {
   "cell_type": "code",
   "execution_count": 196,
   "id": "ba95334e",
   "metadata": {},
   "outputs": [
    {
     "name": "stdout",
     "output_type": "stream",
     "text": [
      "1: 892420643555336193\n",
      "Success\n",
      "2: 892177421306343426\n",
      "Success\n",
      "3: 891815181378084864\n",
      "Success\n",
      "4: 891689557279858688\n",
      "Success\n",
      "5: 891327558926688256\n",
      "Success\n",
      "6: 891087950875897856\n",
      "Success\n",
      "7: 890971913173991426\n",
      "Success\n",
      "8: 890729181411237888\n",
      "Success\n",
      "9: 890609185150312448\n",
      "Success\n",
      "10: 890240255349198849\n",
      "Success\n",
      "11: 890006608113172480\n",
      "Success\n",
      "12: 889880896479866881\n",
      "Success\n",
      "13: 889665388333682689\n",
      "Success\n",
      "14: 889638837579907072\n",
      "Success\n",
      "15: 889531135344209921\n",
      "Success\n",
      "16: 889278841981685760\n",
      "Success\n",
      "17: 888917238123831296\n",
      "Success\n",
      "18: 888804989199671297\n",
      "Success\n",
      "19: 888554962724278272\n",
      "Success\n",
      "20: 888202515573088257\n"
     ]
    },
    {
     "ename": "AttributeError",
     "evalue": "module 'tweepy' has no attribute 'TweepError'",
     "output_type": "error",
     "traceback": [
      "\u001b[1;31m---------------------------------------------------------------------------\u001b[0m",
      "\u001b[1;31mNotFound\u001b[0m                                  Traceback (most recent call last)",
      "Input \u001b[1;32mIn [196]\u001b[0m, in \u001b[0;36m<cell line: 9>\u001b[1;34m()\u001b[0m\n\u001b[0;32m     14\u001b[0m \u001b[38;5;28;01mtry\u001b[39;00m:\n\u001b[0;32m     15\u001b[0m     \u001b[38;5;66;03m# Getting the status id of each tweet id\u001b[39;00m\n\u001b[1;32m---> 16\u001b[0m     tweet \u001b[38;5;241m=\u001b[39m \u001b[43mapi\u001b[49m\u001b[38;5;241;43m.\u001b[39;49m\u001b[43mget_status\u001b[49m\u001b[43m(\u001b[49m\u001b[43mtweet_id\u001b[49m\u001b[43m,\u001b[49m\u001b[43m \u001b[49m\u001b[43mtweet_mode\u001b[49m\u001b[38;5;241;43m=\u001b[39;49m\u001b[38;5;124;43m'\u001b[39;49m\u001b[38;5;124;43mextended\u001b[39;49m\u001b[38;5;124;43m'\u001b[39;49m\u001b[43m)\u001b[49m\n\u001b[0;32m     17\u001b[0m     \u001b[38;5;28mprint\u001b[39m(\u001b[38;5;124m\"\u001b[39m\u001b[38;5;124mSuccess\u001b[39m\u001b[38;5;124m\"\u001b[39m)\n",
      "File \u001b[1;32m~\\anaconda3\\envs\\main\\lib\\site-packages\\tweepy\\api.py:46\u001b[0m, in \u001b[0;36mpayload.<locals>.decorator.<locals>.wrapper\u001b[1;34m(*args, **kwargs)\u001b[0m\n\u001b[0;32m     45\u001b[0m kwargs[\u001b[38;5;124m'\u001b[39m\u001b[38;5;124mpayload_type\u001b[39m\u001b[38;5;124m'\u001b[39m] \u001b[38;5;241m=\u001b[39m payload_type\n\u001b[1;32m---> 46\u001b[0m \u001b[38;5;28;01mreturn\u001b[39;00m method(\u001b[38;5;241m*\u001b[39margs, \u001b[38;5;241m*\u001b[39m\u001b[38;5;241m*\u001b[39mkwargs)\n",
      "File \u001b[1;32m~\\anaconda3\\envs\\main\\lib\\site-packages\\tweepy\\api.py:896\u001b[0m, in \u001b[0;36mAPI.get_status\u001b[1;34m(self, id, **kwargs)\u001b[0m\n\u001b[0;32m    865\u001b[0m \u001b[38;5;124;03m\"\"\"get_status(id, *, trim_user, include_my_retweet, include_entities, \\\u001b[39;00m\n\u001b[0;32m    866\u001b[0m \u001b[38;5;124;03m              include_ext_alt_text, include_card_uri)\u001b[39;00m\n\u001b[0;32m    867\u001b[0m \n\u001b[1;32m   (...)\u001b[0m\n\u001b[0;32m    894\u001b[0m \u001b[38;5;124;03mhttps://developer.twitter.com/en/docs/twitter-api/v1/tweets/post-and-engage/api-reference/get-statuses-show-id\u001b[39;00m\n\u001b[0;32m    895\u001b[0m \u001b[38;5;124;03m\"\"\"\u001b[39;00m\n\u001b[1;32m--> 896\u001b[0m \u001b[38;5;28;01mreturn\u001b[39;00m \u001b[38;5;28mself\u001b[39m\u001b[38;5;241m.\u001b[39mrequest(\n\u001b[0;32m    897\u001b[0m     \u001b[38;5;124m'\u001b[39m\u001b[38;5;124mGET\u001b[39m\u001b[38;5;124m'\u001b[39m, \u001b[38;5;124m'\u001b[39m\u001b[38;5;124mstatuses/show\u001b[39m\u001b[38;5;124m'\u001b[39m, endpoint_parameters\u001b[38;5;241m=\u001b[39m(\n\u001b[0;32m    898\u001b[0m         \u001b[38;5;124m'\u001b[39m\u001b[38;5;124mid\u001b[39m\u001b[38;5;124m'\u001b[39m, \u001b[38;5;124m'\u001b[39m\u001b[38;5;124mtrim_user\u001b[39m\u001b[38;5;124m'\u001b[39m, \u001b[38;5;124m'\u001b[39m\u001b[38;5;124minclude_my_retweet\u001b[39m\u001b[38;5;124m'\u001b[39m, \u001b[38;5;124m'\u001b[39m\u001b[38;5;124minclude_entities\u001b[39m\u001b[38;5;124m'\u001b[39m,\n\u001b[0;32m    899\u001b[0m         \u001b[38;5;124m'\u001b[39m\u001b[38;5;124minclude_ext_alt_text\u001b[39m\u001b[38;5;124m'\u001b[39m, \u001b[38;5;124m'\u001b[39m\u001b[38;5;124minclude_card_uri\u001b[39m\u001b[38;5;124m'\u001b[39m\n\u001b[0;32m    900\u001b[0m     ), \u001b[38;5;28mid\u001b[39m\u001b[38;5;241m=\u001b[39m\u001b[38;5;28mid\u001b[39m, \u001b[38;5;241m*\u001b[39m\u001b[38;5;241m*\u001b[39mkwargs\n\u001b[0;32m    901\u001b[0m )\n",
      "File \u001b[1;32m~\\anaconda3\\envs\\main\\lib\\site-packages\\tweepy\\api.py:261\u001b[0m, in \u001b[0;36mAPI.request\u001b[1;34m(self, method, endpoint, endpoint_parameters, params, headers, json_payload, parser, payload_list, payload_type, post_data, files, require_auth, return_cursors, upload_api, use_cache, **kwargs)\u001b[0m\n\u001b[0;32m    260\u001b[0m \u001b[38;5;28;01mif\u001b[39;00m resp\u001b[38;5;241m.\u001b[39mstatus_code \u001b[38;5;241m==\u001b[39m \u001b[38;5;241m404\u001b[39m:\n\u001b[1;32m--> 261\u001b[0m     \u001b[38;5;28;01mraise\u001b[39;00m NotFound(resp)\n\u001b[0;32m    262\u001b[0m \u001b[38;5;28;01mif\u001b[39;00m resp\u001b[38;5;241m.\u001b[39mstatus_code \u001b[38;5;241m==\u001b[39m \u001b[38;5;241m429\u001b[39m:\n",
      "\u001b[1;31mNotFound\u001b[0m: 404 Not Found\n144 - No status found with that ID.",
      "\nDuring handling of the above exception, another exception occurred:\n",
      "\u001b[1;31mAttributeError\u001b[0m                            Traceback (most recent call last)",
      "Input \u001b[1;32mIn [196]\u001b[0m, in \u001b[0;36m<cell line: 9>\u001b[1;34m()\u001b[0m\n\u001b[0;32m     20\u001b[0m     file\u001b[38;5;241m.\u001b[39mwrite(\u001b[38;5;124m'\u001b[39m\u001b[38;5;130;01m\\n\u001b[39;00m\u001b[38;5;124m'\u001b[39m)\n\u001b[0;32m     21\u001b[0m \u001b[38;5;66;03m# Catching errors that occured \u001b[39;00m\n\u001b[1;32m---> 22\u001b[0m \u001b[38;5;28;01mexcept\u001b[39;00m \u001b[43mtweepy\u001b[49m\u001b[38;5;241;43m.\u001b[39;49m\u001b[43mTweepError\u001b[49m \u001b[38;5;28;01mas\u001b[39;00m error:\n\u001b[0;32m     23\u001b[0m     \u001b[38;5;28mprint\u001b[39m(\u001b[38;5;124m\"\u001b[39m\u001b[38;5;124mError\u001b[39m\u001b[38;5;124m\"\u001b[39m)\n\u001b[0;32m     24\u001b[0m     \u001b[38;5;66;03m# Appending errors to error_dict\u001b[39;00m\n",
      "\u001b[1;31mAttributeError\u001b[0m: module 'tweepy' has no attribute 'TweepError'"
     ]
    }
   ],
   "source": [
    "\n",
    "# Query Twitter's API for JSON data for each tweet ID in the Twitter archive\n",
    "count = 0\n",
    "\n",
    "# creating an error dictionary to catch errors that might occur\n",
    "error_dict = {}\n",
    "start_time = time.time()\n",
    "\n",
    "# Saving each tweet's returned JSON as a new line in a .txt file\n",
    "with open('tweet1_json.txt', 'w') as file:\n",
    "    # This loop will likely take 20-30 minutes to run because of Twitter's rate limit\n",
    "    for tweet_id in tweet_ids:\n",
    "        count += 1\n",
    "        print(str(count) + \": \" + str(tweet_id))\n",
    "        try:\n",
    "            # Getting the status id of each tweet id\n",
    "            tweet = api.get_status(tweet_id, tweet_mode='extended')\n",
    "            print(\"Success\")\n",
    "            # Converting each tweet status to a JSON object/string and saving to a file\n",
    "            json.dump(tweet._json, file)\n",
    "            file.write('\\n')\n",
    "        # Catching errors that occured \n",
    "        except tweepy.TweepError as error:\n",
    "            print(\"Error\")\n",
    "            # Appending errors to error_dict\n",
    "            error_dict[tweet_id] = error\n",
    "            pass\n",
    "end_time = time.time()\n",
    "print(end_time - start_time)"
   ]
  },
  {
   "cell_type": "code",
   "execution_count": 30,
   "id": "87773f33",
   "metadata": {},
   "outputs": [],
   "source": [
    "               \n",
    "# Creating an empty list\n",
    "df3_tweets_list = []\n",
    "file_name = 'tweet_json.txt'\n",
    "# Opening and Reading text file\n",
    "with open(file_name, 'r') as json_file:\n",
    "    for line in json_file.readlines():\n",
    "        tweet_line = json.loads(line)\n",
    "        # Getting the requred columns\n",
    "        tweet_id = tweet_line['id']\n",
    "        retweet_count = tweet_line['retweet_count']\n",
    "        favorite_count = tweet_line['favorite_count']\n",
    "        \n",
    "         # Appending each to the list\n",
    "        df3_tweets_list.append({\n",
    "                \"tweet_id\" : tweet_id,\n",
    "                \"retweet_count\" : retweet_count,\n",
    "                \"favorite_count\" : favorite_count})\n",
    "\n",
    "    "
   ]
  },
  {
   "cell_type": "code",
   "execution_count": 14,
   "id": "ed1e8833",
   "metadata": {},
   "outputs": [],
   "source": [
    "# converting to pandas dataframe"
   ]
  },
  {
   "cell_type": "code",
   "execution_count": 31,
   "id": "fdca5799",
   "metadata": {},
   "outputs": [],
   "source": [
    "df_3 = pd.DataFrame(df3_tweets_list, columns=[\"tweet_id\",'retweet_count', 'favorite_count'])"
   ]
  },
  {
   "cell_type": "code",
   "execution_count": 15,
   "id": "3de7ff42",
   "metadata": {},
   "outputs": [],
   "source": [
    "# Checking to see if it was correctly done"
   ]
  },
  {
   "cell_type": "code",
   "execution_count": 9,
   "id": "cc9ccc1c",
   "metadata": {},
   "outputs": [
    {
     "data": {
      "text/html": [
       "<div>\n",
       "<style scoped>\n",
       "    .dataframe tbody tr th:only-of-type {\n",
       "        vertical-align: middle;\n",
       "    }\n",
       "\n",
       "    .dataframe tbody tr th {\n",
       "        vertical-align: top;\n",
       "    }\n",
       "\n",
       "    .dataframe thead th {\n",
       "        text-align: right;\n",
       "    }\n",
       "</style>\n",
       "<table border=\"1\" class=\"dataframe\">\n",
       "  <thead>\n",
       "    <tr style=\"text-align: right;\">\n",
       "      <th></th>\n",
       "      <th>tweet_id</th>\n",
       "      <th>retweet_count</th>\n",
       "      <th>favorite_count</th>\n",
       "    </tr>\n",
       "  </thead>\n",
       "  <tbody>\n",
       "    <tr>\n",
       "      <th>0</th>\n",
       "      <td>892420643555336193</td>\n",
       "      <td>7009</td>\n",
       "      <td>33811</td>\n",
       "    </tr>\n",
       "    <tr>\n",
       "      <th>1</th>\n",
       "      <td>892177421306343426</td>\n",
       "      <td>5301</td>\n",
       "      <td>29330</td>\n",
       "    </tr>\n",
       "  </tbody>\n",
       "</table>\n",
       "</div>"
      ],
      "text/plain": [
       "             tweet_id  retweet_count  favorite_count\n",
       "0  892420643555336193           7009           33811\n",
       "1  892177421306343426           5301           29330"
      ]
     },
     "execution_count": 9,
     "metadata": {},
     "output_type": "execute_result"
    }
   ],
   "source": [
    "df_3.head(2)"
   ]
  },
  {
   "cell_type": "markdown",
   "id": "1b7eec45",
   "metadata": {},
   "source": [
    "# Data Assessing "
   ]
  },
  {
   "cell_type": "markdown",
   "id": "401bd1a3",
   "metadata": {},
   "source": [
    "### Assessing df1 (Twitter Archive Data)\n",
    "### Twitter Archive Data- df1 Column Description\n",
    "\n",
    "#### Here's a brief decription of column headers\n",
    "\n",
    ". tweet_id - unique id for each tweet by the twitter account @DogRates\n",
    "\n",
    ".in_reply_to_status_id - If the represented Tweet is a reply, this field will contain the integer representation of the original Tweet’s ID\n",
    "\n",
    ".in_reply_to_user_id - If the represented Tweet is a reply, this field will contain the integer representation of the original Tweet’s author ID. This will not necessarily always be the user directly mentioned in the Tweet.\n",
    "\n",
    ".timestamp - The time the tweet was tweeted\n",
    "\n",
    ".source - The source of the tweet\n",
    "\n",
    ".text - This is the content of the tweet\n",
    "\n",
    ".retweeted_status_id - This attribute contains a representation of the original Tweet that was retweeted.\n",
    "\n",
    ".retweeted_status_user_id - The id of the retweeted status user\n",
    "\n",
    ".retweeted_status_timestamp - This attribute contains a representation of the time the original Tweet was retweeted.\n",
    "\n",
    ".expanded_urls - This is the url of the tweet( can be used to access the tweet directly)\n",
    "\n",
    ".rating_numerator - This is the numerator of the ratings for the dog\n",
    "\n",
    ".rating_denominator - his is the denominator of the ratings for the dog(should always be 10)\n",
    "\n",
    ".name - This is the name of the dog\n",
    "\n",
    ".doggo - This is one of the dog stages\n",
    "\n",
    ".floofer - This is one of the dog stages\n",
    "\n",
    ".pupper - This is one of the dog stages\n",
    "\n",
    ".puppo - This is one of the dog stages\n",
    "\n",
    "(some of the descriptions were gotten from twitter, others by me from the project motivation)"
   ]
  },
  {
   "cell_type": "code",
   "execution_count": 17,
   "id": "63b97212",
   "metadata": {},
   "outputs": [],
   "source": [
    "# assessing the head of df 1"
   ]
  },
  {
   "cell_type": "code",
   "execution_count": 10,
   "id": "8f7c365a",
   "metadata": {},
   "outputs": [
    {
     "data": {
      "text/html": [
       "<div>\n",
       "<style scoped>\n",
       "    .dataframe tbody tr th:only-of-type {\n",
       "        vertical-align: middle;\n",
       "    }\n",
       "\n",
       "    .dataframe tbody tr th {\n",
       "        vertical-align: top;\n",
       "    }\n",
       "\n",
       "    .dataframe thead th {\n",
       "        text-align: right;\n",
       "    }\n",
       "</style>\n",
       "<table border=\"1\" class=\"dataframe\">\n",
       "  <thead>\n",
       "    <tr style=\"text-align: right;\">\n",
       "      <th></th>\n",
       "      <th>tweet_id</th>\n",
       "      <th>in_reply_to_status_id</th>\n",
       "      <th>in_reply_to_user_id</th>\n",
       "      <th>timestamp</th>\n",
       "      <th>source</th>\n",
       "      <th>text</th>\n",
       "      <th>retweeted_status_id</th>\n",
       "      <th>retweeted_status_user_id</th>\n",
       "      <th>retweeted_status_timestamp</th>\n",
       "      <th>expanded_urls</th>\n",
       "      <th>rating_numerator</th>\n",
       "      <th>rating_denominator</th>\n",
       "      <th>name</th>\n",
       "      <th>doggo</th>\n",
       "      <th>floofer</th>\n",
       "      <th>pupper</th>\n",
       "      <th>puppo</th>\n",
       "    </tr>\n",
       "  </thead>\n",
       "  <tbody>\n",
       "    <tr>\n",
       "      <th>0</th>\n",
       "      <td>892420643555336193</td>\n",
       "      <td>NaN</td>\n",
       "      <td>NaN</td>\n",
       "      <td>2017-08-01 16:23:56 +0000</td>\n",
       "      <td>&lt;a href=\"http://twitter.com/download/iphone\" r...</td>\n",
       "      <td>This is Phineas. He's a mystical boy. Only eve...</td>\n",
       "      <td>NaN</td>\n",
       "      <td>NaN</td>\n",
       "      <td>NaN</td>\n",
       "      <td>https://twitter.com/dog_rates/status/892420643...</td>\n",
       "      <td>13</td>\n",
       "      <td>10</td>\n",
       "      <td>Phineas</td>\n",
       "      <td>None</td>\n",
       "      <td>None</td>\n",
       "      <td>None</td>\n",
       "      <td>None</td>\n",
       "    </tr>\n",
       "    <tr>\n",
       "      <th>1</th>\n",
       "      <td>892177421306343426</td>\n",
       "      <td>NaN</td>\n",
       "      <td>NaN</td>\n",
       "      <td>2017-08-01 00:17:27 +0000</td>\n",
       "      <td>&lt;a href=\"http://twitter.com/download/iphone\" r...</td>\n",
       "      <td>This is Tilly. She's just checking pup on you....</td>\n",
       "      <td>NaN</td>\n",
       "      <td>NaN</td>\n",
       "      <td>NaN</td>\n",
       "      <td>https://twitter.com/dog_rates/status/892177421...</td>\n",
       "      <td>13</td>\n",
       "      <td>10</td>\n",
       "      <td>Tilly</td>\n",
       "      <td>None</td>\n",
       "      <td>None</td>\n",
       "      <td>None</td>\n",
       "      <td>None</td>\n",
       "    </tr>\n",
       "  </tbody>\n",
       "</table>\n",
       "</div>"
      ],
      "text/plain": [
       "             tweet_id  in_reply_to_status_id  in_reply_to_user_id  \\\n",
       "0  892420643555336193                    NaN                  NaN   \n",
       "1  892177421306343426                    NaN                  NaN   \n",
       "\n",
       "                   timestamp  \\\n",
       "0  2017-08-01 16:23:56 +0000   \n",
       "1  2017-08-01 00:17:27 +0000   \n",
       "\n",
       "                                              source  \\\n",
       "0  <a href=\"http://twitter.com/download/iphone\" r...   \n",
       "1  <a href=\"http://twitter.com/download/iphone\" r...   \n",
       "\n",
       "                                                text  retweeted_status_id  \\\n",
       "0  This is Phineas. He's a mystical boy. Only eve...                  NaN   \n",
       "1  This is Tilly. She's just checking pup on you....                  NaN   \n",
       "\n",
       "   retweeted_status_user_id retweeted_status_timestamp  \\\n",
       "0                       NaN                        NaN   \n",
       "1                       NaN                        NaN   \n",
       "\n",
       "                                       expanded_urls  rating_numerator  \\\n",
       "0  https://twitter.com/dog_rates/status/892420643...                13   \n",
       "1  https://twitter.com/dog_rates/status/892177421...                13   \n",
       "\n",
       "   rating_denominator     name doggo floofer pupper puppo  \n",
       "0                  10  Phineas  None    None   None  None  \n",
       "1                  10    Tilly  None    None   None  None  "
      ]
     },
     "execution_count": 10,
     "metadata": {},
     "output_type": "execute_result"
    }
   ],
   "source": [
    "df_1.head(2)"
   ]
  },
  {
   "cell_type": "code",
   "execution_count": 18,
   "id": "6774e23e",
   "metadata": {},
   "outputs": [],
   "source": [
    "# asscessing the head of df 2"
   ]
  },
  {
   "cell_type": "code",
   "execution_count": 11,
   "id": "64cb6086",
   "metadata": {},
   "outputs": [
    {
     "data": {
      "text/html": [
       "<div>\n",
       "<style scoped>\n",
       "    .dataframe tbody tr th:only-of-type {\n",
       "        vertical-align: middle;\n",
       "    }\n",
       "\n",
       "    .dataframe tbody tr th {\n",
       "        vertical-align: top;\n",
       "    }\n",
       "\n",
       "    .dataframe thead th {\n",
       "        text-align: right;\n",
       "    }\n",
       "</style>\n",
       "<table border=\"1\" class=\"dataframe\">\n",
       "  <thead>\n",
       "    <tr style=\"text-align: right;\">\n",
       "      <th></th>\n",
       "      <th>tweet_id</th>\n",
       "      <th>jpg_url</th>\n",
       "      <th>img_num</th>\n",
       "      <th>p1</th>\n",
       "      <th>p1_conf</th>\n",
       "      <th>p1_dog</th>\n",
       "      <th>p2</th>\n",
       "      <th>p2_conf</th>\n",
       "      <th>p2_dog</th>\n",
       "      <th>p3</th>\n",
       "      <th>p3_conf</th>\n",
       "      <th>p3_dog</th>\n",
       "    </tr>\n",
       "  </thead>\n",
       "  <tbody>\n",
       "    <tr>\n",
       "      <th>0</th>\n",
       "      <td>666020888022790149</td>\n",
       "      <td>https://pbs.twimg.com/media/CT4udn0WwAA0aMy.jpg</td>\n",
       "      <td>1</td>\n",
       "      <td>Welsh_springer_spaniel</td>\n",
       "      <td>0.465074</td>\n",
       "      <td>True</td>\n",
       "      <td>collie</td>\n",
       "      <td>0.156665</td>\n",
       "      <td>True</td>\n",
       "      <td>Shetland_sheepdog</td>\n",
       "      <td>0.061428</td>\n",
       "      <td>True</td>\n",
       "    </tr>\n",
       "    <tr>\n",
       "      <th>1</th>\n",
       "      <td>666029285002620928</td>\n",
       "      <td>https://pbs.twimg.com/media/CT42GRgUYAA5iDo.jpg</td>\n",
       "      <td>1</td>\n",
       "      <td>redbone</td>\n",
       "      <td>0.506826</td>\n",
       "      <td>True</td>\n",
       "      <td>miniature_pinscher</td>\n",
       "      <td>0.074192</td>\n",
       "      <td>True</td>\n",
       "      <td>Rhodesian_ridgeback</td>\n",
       "      <td>0.072010</td>\n",
       "      <td>True</td>\n",
       "    </tr>\n",
       "  </tbody>\n",
       "</table>\n",
       "</div>"
      ],
      "text/plain": [
       "             tweet_id                                          jpg_url  \\\n",
       "0  666020888022790149  https://pbs.twimg.com/media/CT4udn0WwAA0aMy.jpg   \n",
       "1  666029285002620928  https://pbs.twimg.com/media/CT42GRgUYAA5iDo.jpg   \n",
       "\n",
       "   img_num                      p1   p1_conf  p1_dog                  p2  \\\n",
       "0        1  Welsh_springer_spaniel  0.465074    True              collie   \n",
       "1        1                 redbone  0.506826    True  miniature_pinscher   \n",
       "\n",
       "    p2_conf  p2_dog                   p3   p3_conf  p3_dog  \n",
       "0  0.156665    True    Shetland_sheepdog  0.061428    True  \n",
       "1  0.074192    True  Rhodesian_ridgeback  0.072010    True  "
      ]
     },
     "execution_count": 11,
     "metadata": {},
     "output_type": "execute_result"
    }
   ],
   "source": [
    "df_2.head(2)"
   ]
  },
  {
   "cell_type": "code",
   "execution_count": 19,
   "id": "d9cd11ba",
   "metadata": {},
   "outputs": [],
   "source": [
    "# accessing the head of df 1 with the info()"
   ]
  },
  {
   "cell_type": "code",
   "execution_count": 59,
   "id": "ed69bab2",
   "metadata": {},
   "outputs": [
    {
     "name": "stdout",
     "output_type": "stream",
     "text": [
      "<class 'pandas.core.frame.DataFrame'>\n",
      "RangeIndex: 2356 entries, 0 to 2355\n",
      "Data columns (total 17 columns):\n",
      " #   Column                      Non-Null Count  Dtype  \n",
      "---  ------                      --------------  -----  \n",
      " 0   tweet_id                    2356 non-null   int64  \n",
      " 1   in_reply_to_status_id       78 non-null     float64\n",
      " 2   in_reply_to_user_id         78 non-null     float64\n",
      " 3   timestamp                   2356 non-null   object \n",
      " 4   source                      2356 non-null   object \n",
      " 5   text                        2356 non-null   object \n",
      " 6   retweeted_status_id         181 non-null    float64\n",
      " 7   retweeted_status_user_id    181 non-null    float64\n",
      " 8   retweeted_status_timestamp  181 non-null    object \n",
      " 9   expanded_urls               2297 non-null   object \n",
      " 10  rating_numerator            2356 non-null   int64  \n",
      " 11  rating_denominator          2356 non-null   int64  \n",
      " 12  name                        2356 non-null   object \n",
      " 13  doggo                       2356 non-null   object \n",
      " 14  floofer                     2356 non-null   object \n",
      " 15  pupper                      2356 non-null   object \n",
      " 16  puppo                       2356 non-null   object \n",
      "dtypes: float64(4), int64(3), object(10)\n",
      "memory usage: 313.0+ KB\n"
     ]
    }
   ],
   "source": [
    "df_1.info()"
   ]
  },
  {
   "cell_type": "code",
   "execution_count": 20,
   "id": "d129a198",
   "metadata": {},
   "outputs": [],
   "source": [
    "# accsessing the df 2 dataframe with the info()"
   ]
  },
  {
   "cell_type": "code",
   "execution_count": 60,
   "id": "e83a8c64",
   "metadata": {},
   "outputs": [
    {
     "name": "stdout",
     "output_type": "stream",
     "text": [
      "<class 'pandas.core.frame.DataFrame'>\n",
      "RangeIndex: 2075 entries, 0 to 2074\n",
      "Data columns (total 12 columns):\n",
      " #   Column    Non-Null Count  Dtype  \n",
      "---  ------    --------------  -----  \n",
      " 0   tweet_id  2075 non-null   int64  \n",
      " 1   jpg_url   2075 non-null   object \n",
      " 2   img_num   2075 non-null   int64  \n",
      " 3   p1        2075 non-null   object \n",
      " 4   p1_conf   2075 non-null   float64\n",
      " 5   p1_dog    2075 non-null   bool   \n",
      " 6   p2        2075 non-null   object \n",
      " 7   p2_conf   2075 non-null   float64\n",
      " 8   p2_dog    2075 non-null   bool   \n",
      " 9   p3        2075 non-null   object \n",
      " 10  p3_conf   2075 non-null   float64\n",
      " 11  p3_dog    2075 non-null   bool   \n",
      "dtypes: bool(3), float64(3), int64(2), object(4)\n",
      "memory usage: 152.1+ KB\n"
     ]
    }
   ],
   "source": [
    "df_2.info()"
   ]
  },
  {
   "cell_type": "code",
   "execution_count": 21,
   "id": "0799f110",
   "metadata": {},
   "outputs": [],
   "source": [
    "# accessing the df_3 dataframe with the info()"
   ]
  },
  {
   "cell_type": "code",
   "execution_count": 61,
   "id": "a36cf23d",
   "metadata": {},
   "outputs": [
    {
     "name": "stdout",
     "output_type": "stream",
     "text": [
      "<class 'pandas.core.frame.DataFrame'>\n",
      "RangeIndex: 2324 entries, 0 to 2323\n",
      "Data columns (total 3 columns):\n",
      " #   Column          Non-Null Count  Dtype\n",
      "---  ------          --------------  -----\n",
      " 0   tweet_id        2324 non-null   int64\n",
      " 1   retweet_count   2324 non-null   int64\n",
      " 2   favorite_count  2324 non-null   int64\n",
      "dtypes: int64(3)\n",
      "memory usage: 54.6 KB\n"
     ]
    }
   ],
   "source": [
    "df_3.info()"
   ]
  },
  {
   "cell_type": "code",
   "execution_count": 14,
   "id": "e6710a88",
   "metadata": {},
   "outputs": [
    {
     "data": {
      "text/plain": [
       "3     tweet_id\n",
       "15    tweet_id\n",
       "dtype: object"
      ]
     },
     "execution_count": 14,
     "metadata": {},
     "output_type": "execute_result"
    }
   ],
   "source": [
    "# checking for duplicated columns\n",
    "\n",
    "all_columns = pd.Series(list(df_3) + list(df_2) + list(df_1))\n",
    "all_columns[all_columns.duplicated()]"
   ]
  },
  {
   "cell_type": "code",
   "execution_count": 136,
   "id": "2d92fb0f",
   "metadata": {},
   "outputs": [],
   "source": [
    "# accessing df_1"
   ]
  },
  {
   "cell_type": "code",
   "execution_count": 63,
   "id": "0908893b",
   "metadata": {},
   "outputs": [
    {
     "data": {
      "text/html": [
       "<div>\n",
       "<style scoped>\n",
       "    .dataframe tbody tr th:only-of-type {\n",
       "        vertical-align: middle;\n",
       "    }\n",
       "\n",
       "    .dataframe tbody tr th {\n",
       "        vertical-align: top;\n",
       "    }\n",
       "\n",
       "    .dataframe thead th {\n",
       "        text-align: right;\n",
       "    }\n",
       "</style>\n",
       "<table border=\"1\" class=\"dataframe\">\n",
       "  <thead>\n",
       "    <tr style=\"text-align: right;\">\n",
       "      <th></th>\n",
       "      <th>tweet_id</th>\n",
       "      <th>in_reply_to_status_id</th>\n",
       "      <th>in_reply_to_user_id</th>\n",
       "      <th>retweeted_status_id</th>\n",
       "      <th>retweeted_status_user_id</th>\n",
       "      <th>rating_numerator</th>\n",
       "      <th>rating_denominator</th>\n",
       "    </tr>\n",
       "  </thead>\n",
       "  <tbody>\n",
       "    <tr>\n",
       "      <th>count</th>\n",
       "      <td>2.356000e+03</td>\n",
       "      <td>7.800000e+01</td>\n",
       "      <td>7.800000e+01</td>\n",
       "      <td>1.810000e+02</td>\n",
       "      <td>1.810000e+02</td>\n",
       "      <td>2356.000000</td>\n",
       "      <td>2356.000000</td>\n",
       "    </tr>\n",
       "    <tr>\n",
       "      <th>mean</th>\n",
       "      <td>7.427716e+17</td>\n",
       "      <td>7.455079e+17</td>\n",
       "      <td>2.014171e+16</td>\n",
       "      <td>7.720400e+17</td>\n",
       "      <td>1.241698e+16</td>\n",
       "      <td>13.126486</td>\n",
       "      <td>10.455433</td>\n",
       "    </tr>\n",
       "    <tr>\n",
       "      <th>std</th>\n",
       "      <td>6.856705e+16</td>\n",
       "      <td>7.582492e+16</td>\n",
       "      <td>1.252797e+17</td>\n",
       "      <td>6.236928e+16</td>\n",
       "      <td>9.599254e+16</td>\n",
       "      <td>45.876648</td>\n",
       "      <td>6.745237</td>\n",
       "    </tr>\n",
       "    <tr>\n",
       "      <th>min</th>\n",
       "      <td>6.660209e+17</td>\n",
       "      <td>6.658147e+17</td>\n",
       "      <td>1.185634e+07</td>\n",
       "      <td>6.661041e+17</td>\n",
       "      <td>7.832140e+05</td>\n",
       "      <td>0.000000</td>\n",
       "      <td>0.000000</td>\n",
       "    </tr>\n",
       "    <tr>\n",
       "      <th>25%</th>\n",
       "      <td>6.783989e+17</td>\n",
       "      <td>6.757419e+17</td>\n",
       "      <td>3.086374e+08</td>\n",
       "      <td>7.186315e+17</td>\n",
       "      <td>4.196984e+09</td>\n",
       "      <td>10.000000</td>\n",
       "      <td>10.000000</td>\n",
       "    </tr>\n",
       "    <tr>\n",
       "      <th>50%</th>\n",
       "      <td>7.196279e+17</td>\n",
       "      <td>7.038708e+17</td>\n",
       "      <td>4.196984e+09</td>\n",
       "      <td>7.804657e+17</td>\n",
       "      <td>4.196984e+09</td>\n",
       "      <td>11.000000</td>\n",
       "      <td>10.000000</td>\n",
       "    </tr>\n",
       "    <tr>\n",
       "      <th>75%</th>\n",
       "      <td>7.993373e+17</td>\n",
       "      <td>8.257804e+17</td>\n",
       "      <td>4.196984e+09</td>\n",
       "      <td>8.203146e+17</td>\n",
       "      <td>4.196984e+09</td>\n",
       "      <td>12.000000</td>\n",
       "      <td>10.000000</td>\n",
       "    </tr>\n",
       "    <tr>\n",
       "      <th>max</th>\n",
       "      <td>8.924206e+17</td>\n",
       "      <td>8.862664e+17</td>\n",
       "      <td>8.405479e+17</td>\n",
       "      <td>8.874740e+17</td>\n",
       "      <td>7.874618e+17</td>\n",
       "      <td>1776.000000</td>\n",
       "      <td>170.000000</td>\n",
       "    </tr>\n",
       "  </tbody>\n",
       "</table>\n",
       "</div>"
      ],
      "text/plain": [
       "           tweet_id  in_reply_to_status_id  in_reply_to_user_id  \\\n",
       "count  2.356000e+03           7.800000e+01         7.800000e+01   \n",
       "mean   7.427716e+17           7.455079e+17         2.014171e+16   \n",
       "std    6.856705e+16           7.582492e+16         1.252797e+17   \n",
       "min    6.660209e+17           6.658147e+17         1.185634e+07   \n",
       "25%    6.783989e+17           6.757419e+17         3.086374e+08   \n",
       "50%    7.196279e+17           7.038708e+17         4.196984e+09   \n",
       "75%    7.993373e+17           8.257804e+17         4.196984e+09   \n",
       "max    8.924206e+17           8.862664e+17         8.405479e+17   \n",
       "\n",
       "       retweeted_status_id  retweeted_status_user_id  rating_numerator  \\\n",
       "count         1.810000e+02              1.810000e+02       2356.000000   \n",
       "mean          7.720400e+17              1.241698e+16         13.126486   \n",
       "std           6.236928e+16              9.599254e+16         45.876648   \n",
       "min           6.661041e+17              7.832140e+05          0.000000   \n",
       "25%           7.186315e+17              4.196984e+09         10.000000   \n",
       "50%           7.804657e+17              4.196984e+09         11.000000   \n",
       "75%           8.203146e+17              4.196984e+09         12.000000   \n",
       "max           8.874740e+17              7.874618e+17       1776.000000   \n",
       "\n",
       "       rating_denominator  \n",
       "count         2356.000000  \n",
       "mean            10.455433  \n",
       "std              6.745237  \n",
       "min              0.000000  \n",
       "25%             10.000000  \n",
       "50%             10.000000  \n",
       "75%             10.000000  \n",
       "max            170.000000  "
      ]
     },
     "execution_count": 63,
     "metadata": {},
     "output_type": "execute_result"
    }
   ],
   "source": [
    "df_1.describe()"
   ]
  },
  {
   "cell_type": "code",
   "execution_count": 22,
   "id": "f7006626",
   "metadata": {},
   "outputs": [],
   "source": [
    "# accessing the df 2 dataframe with describe()"
   ]
  },
  {
   "cell_type": "code",
   "execution_count": 64,
   "id": "4e719403",
   "metadata": {},
   "outputs": [
    {
     "data": {
      "text/html": [
       "<div>\n",
       "<style scoped>\n",
       "    .dataframe tbody tr th:only-of-type {\n",
       "        vertical-align: middle;\n",
       "    }\n",
       "\n",
       "    .dataframe tbody tr th {\n",
       "        vertical-align: top;\n",
       "    }\n",
       "\n",
       "    .dataframe thead th {\n",
       "        text-align: right;\n",
       "    }\n",
       "</style>\n",
       "<table border=\"1\" class=\"dataframe\">\n",
       "  <thead>\n",
       "    <tr style=\"text-align: right;\">\n",
       "      <th></th>\n",
       "      <th>tweet_id</th>\n",
       "      <th>img_num</th>\n",
       "      <th>p1_conf</th>\n",
       "      <th>p2_conf</th>\n",
       "      <th>p3_conf</th>\n",
       "    </tr>\n",
       "  </thead>\n",
       "  <tbody>\n",
       "    <tr>\n",
       "      <th>count</th>\n",
       "      <td>2.075000e+03</td>\n",
       "      <td>2075.000000</td>\n",
       "      <td>2075.000000</td>\n",
       "      <td>2.075000e+03</td>\n",
       "      <td>2.075000e+03</td>\n",
       "    </tr>\n",
       "    <tr>\n",
       "      <th>mean</th>\n",
       "      <td>7.384514e+17</td>\n",
       "      <td>1.203855</td>\n",
       "      <td>0.594548</td>\n",
       "      <td>1.345886e-01</td>\n",
       "      <td>6.032417e-02</td>\n",
       "    </tr>\n",
       "    <tr>\n",
       "      <th>std</th>\n",
       "      <td>6.785203e+16</td>\n",
       "      <td>0.561875</td>\n",
       "      <td>0.271174</td>\n",
       "      <td>1.006657e-01</td>\n",
       "      <td>5.090593e-02</td>\n",
       "    </tr>\n",
       "    <tr>\n",
       "      <th>min</th>\n",
       "      <td>6.660209e+17</td>\n",
       "      <td>1.000000</td>\n",
       "      <td>0.044333</td>\n",
       "      <td>1.011300e-08</td>\n",
       "      <td>1.740170e-10</td>\n",
       "    </tr>\n",
       "    <tr>\n",
       "      <th>25%</th>\n",
       "      <td>6.764835e+17</td>\n",
       "      <td>1.000000</td>\n",
       "      <td>0.364412</td>\n",
       "      <td>5.388625e-02</td>\n",
       "      <td>1.622240e-02</td>\n",
       "    </tr>\n",
       "    <tr>\n",
       "      <th>50%</th>\n",
       "      <td>7.119988e+17</td>\n",
       "      <td>1.000000</td>\n",
       "      <td>0.588230</td>\n",
       "      <td>1.181810e-01</td>\n",
       "      <td>4.944380e-02</td>\n",
       "    </tr>\n",
       "    <tr>\n",
       "      <th>75%</th>\n",
       "      <td>7.932034e+17</td>\n",
       "      <td>1.000000</td>\n",
       "      <td>0.843855</td>\n",
       "      <td>1.955655e-01</td>\n",
       "      <td>9.180755e-02</td>\n",
       "    </tr>\n",
       "    <tr>\n",
       "      <th>max</th>\n",
       "      <td>8.924206e+17</td>\n",
       "      <td>4.000000</td>\n",
       "      <td>1.000000</td>\n",
       "      <td>4.880140e-01</td>\n",
       "      <td>2.734190e-01</td>\n",
       "    </tr>\n",
       "  </tbody>\n",
       "</table>\n",
       "</div>"
      ],
      "text/plain": [
       "           tweet_id      img_num      p1_conf       p2_conf       p3_conf\n",
       "count  2.075000e+03  2075.000000  2075.000000  2.075000e+03  2.075000e+03\n",
       "mean   7.384514e+17     1.203855     0.594548  1.345886e-01  6.032417e-02\n",
       "std    6.785203e+16     0.561875     0.271174  1.006657e-01  5.090593e-02\n",
       "min    6.660209e+17     1.000000     0.044333  1.011300e-08  1.740170e-10\n",
       "25%    6.764835e+17     1.000000     0.364412  5.388625e-02  1.622240e-02\n",
       "50%    7.119988e+17     1.000000     0.588230  1.181810e-01  4.944380e-02\n",
       "75%    7.932034e+17     1.000000     0.843855  1.955655e-01  9.180755e-02\n",
       "max    8.924206e+17     4.000000     1.000000  4.880140e-01  2.734190e-01"
      ]
     },
     "execution_count": 64,
     "metadata": {},
     "output_type": "execute_result"
    }
   ],
   "source": [
    "df_2.describe()"
   ]
  },
  {
   "cell_type": "code",
   "execution_count": 23,
   "id": "15532109",
   "metadata": {},
   "outputs": [],
   "source": [
    "# accessing the df 3 dataframe with describe()"
   ]
  },
  {
   "cell_type": "code",
   "execution_count": 65,
   "id": "99cc4e64",
   "metadata": {},
   "outputs": [
    {
     "data": {
      "text/html": [
       "<div>\n",
       "<style scoped>\n",
       "    .dataframe tbody tr th:only-of-type {\n",
       "        vertical-align: middle;\n",
       "    }\n",
       "\n",
       "    .dataframe tbody tr th {\n",
       "        vertical-align: top;\n",
       "    }\n",
       "\n",
       "    .dataframe thead th {\n",
       "        text-align: right;\n",
       "    }\n",
       "</style>\n",
       "<table border=\"1\" class=\"dataframe\">\n",
       "  <thead>\n",
       "    <tr style=\"text-align: right;\">\n",
       "      <th></th>\n",
       "      <th>tweet_id</th>\n",
       "      <th>retweet_count</th>\n",
       "      <th>favorite_count</th>\n",
       "    </tr>\n",
       "  </thead>\n",
       "  <tbody>\n",
       "    <tr>\n",
       "      <th>count</th>\n",
       "      <td>2.324000e+03</td>\n",
       "      <td>2324.000000</td>\n",
       "      <td>2324.000000</td>\n",
       "    </tr>\n",
       "    <tr>\n",
       "      <th>mean</th>\n",
       "      <td>7.418527e+17</td>\n",
       "      <td>2473.524957</td>\n",
       "      <td>7060.407917</td>\n",
       "    </tr>\n",
       "    <tr>\n",
       "      <th>std</th>\n",
       "      <td>6.823001e+16</td>\n",
       "      <td>4186.940687</td>\n",
       "      <td>10967.763219</td>\n",
       "    </tr>\n",
       "    <tr>\n",
       "      <th>min</th>\n",
       "      <td>6.660209e+17</td>\n",
       "      <td>1.000000</td>\n",
       "      <td>0.000000</td>\n",
       "    </tr>\n",
       "    <tr>\n",
       "      <th>25%</th>\n",
       "      <td>6.780228e+17</td>\n",
       "      <td>494.750000</td>\n",
       "      <td>1226.000000</td>\n",
       "    </tr>\n",
       "    <tr>\n",
       "      <th>50%</th>\n",
       "      <td>7.182408e+17</td>\n",
       "      <td>1154.500000</td>\n",
       "      <td>3051.000000</td>\n",
       "    </tr>\n",
       "    <tr>\n",
       "      <th>75%</th>\n",
       "      <td>7.986673e+17</td>\n",
       "      <td>2862.750000</td>\n",
       "      <td>8622.250000</td>\n",
       "    </tr>\n",
       "    <tr>\n",
       "      <th>max</th>\n",
       "      <td>8.924206e+17</td>\n",
       "      <td>70734.000000</td>\n",
       "      <td>144877.000000</td>\n",
       "    </tr>\n",
       "  </tbody>\n",
       "</table>\n",
       "</div>"
      ],
      "text/plain": [
       "           tweet_id  retweet_count  favorite_count\n",
       "count  2.324000e+03    2324.000000     2324.000000\n",
       "mean   7.418527e+17    2473.524957     7060.407917\n",
       "std    6.823001e+16    4186.940687    10967.763219\n",
       "min    6.660209e+17       1.000000        0.000000\n",
       "25%    6.780228e+17     494.750000     1226.000000\n",
       "50%    7.182408e+17    1154.500000     3051.000000\n",
       "75%    7.986673e+17    2862.750000     8622.250000\n",
       "max    8.924206e+17   70734.000000   144877.000000"
      ]
     },
     "execution_count": 65,
     "metadata": {},
     "output_type": "execute_result"
    }
   ],
   "source": [
    "df_3.describe()"
   ]
  },
  {
   "cell_type": "markdown",
   "id": "1a82ec56",
   "metadata": {},
   "source": [
    "# Data Cleaning\n",
    "\n"
   ]
  },
  {
   "cell_type": "code",
   "execution_count": null,
   "id": "526f0007",
   "metadata": {},
   "outputs": [],
   "source": []
  },
  {
   "cell_type": "code",
   "execution_count": null,
   "id": "5a79140d",
   "metadata": {},
   "outputs": [],
   "source": [
    "# taking note of quality and tidiness issues"
   ]
  },
  {
   "cell_type": "markdown",
   "id": "08c2fd88",
   "metadata": {},
   "source": [
    "## Tidiness issues"
   ]
  },
  {
   "cell_type": "markdown",
   "id": "05e214ff",
   "metadata": {},
   "source": [
    "### tidiness issues\n",
    "\n",
    "1. the dog stages doggo, floofer , pupper and puppo in df_1  should be in a column\n",
    "2. Twitter archive data (df_1), image Predictions data(df_2), and Tweets data (df_3) should be combined as one\n",
    "\n",
    "\n"
   ]
  },
  {
   "cell_type": "markdown",
   "id": "4f29dad4",
   "metadata": {},
   "source": [
    "### quality issues\n",
    "\n"
   ]
  },
  {
   "cell_type": "markdown",
   "id": "9582444f",
   "metadata": {},
   "source": [
    "\n",
    "1. extract the text from the anchor in the source column in df_1 \n",
    "2. \n",
    "  - Dropping Rows where Retweet_id is not null (reason: I need Tweets and not Retweets for my analysis)\n",
    "  - Dropping rows where rating_denominator not equal to 10 \n",
    "  - Remove rows where dog name is in lower case (fake names)\n",
    "  - Drop column image_num img_num in image predictions dataframe(df_2_clean) because I won't be using it for analysis\n",
    "\n",
    "\n",
    "3. Drop column image number retweeted_status_id, retweeted_status_timestamp,in_reply_to_status_id in df_1_clean because I won't be using it for analysis\n",
    "4. Drop column in_reply_to_user_id in df1_clean because I won't be using it for analysis\n",
    "5. replacing rows in dog_stages that have value 'in_reply_to_user_id ' or 'retweeted_status_user_id' with empty string\n",
    "6. Convert timestamp to datetime\n",
    "7. The Name column has inaccurate dog names and I have been able to list them out and would change them accordingly\n",
    "8. In the name column, \"None\" was used to represent records for Dogs without Names. This should be represent with Nan"
   ]
  },
  {
   "cell_type": "code",
   "execution_count": 24,
   "id": "78e0f668",
   "metadata": {},
   "outputs": [],
   "source": [
    "# making copy of my datasets df1, df 2, df3"
   ]
  },
  {
   "cell_type": "code",
   "execution_count": 64,
   "id": "82ef4e8e",
   "metadata": {},
   "outputs": [],
   "source": [
    "df1_clean = df_1.copy()\n",
    "df_2_clean = df_2.copy()\n",
    "df_3_clean = df_3.copy()\n"
   ]
  },
  {
   "cell_type": "code",
   "execution_count": 25,
   "id": "f7ecea77",
   "metadata": {},
   "outputs": [],
   "source": [
    "# accessing the df1 clean with sample()"
   ]
  },
  {
   "cell_type": "code",
   "execution_count": 69,
   "id": "965870ea",
   "metadata": {},
   "outputs": [
    {
     "data": {
      "text/html": [
       "<div>\n",
       "<style scoped>\n",
       "    .dataframe tbody tr th:only-of-type {\n",
       "        vertical-align: middle;\n",
       "    }\n",
       "\n",
       "    .dataframe tbody tr th {\n",
       "        vertical-align: top;\n",
       "    }\n",
       "\n",
       "    .dataframe thead th {\n",
       "        text-align: right;\n",
       "    }\n",
       "</style>\n",
       "<table border=\"1\" class=\"dataframe\">\n",
       "  <thead>\n",
       "    <tr style=\"text-align: right;\">\n",
       "      <th></th>\n",
       "      <th>tweet_id</th>\n",
       "      <th>in_reply_to_status_id</th>\n",
       "      <th>in_reply_to_user_id</th>\n",
       "      <th>timestamp</th>\n",
       "      <th>source</th>\n",
       "      <th>text</th>\n",
       "      <th>retweeted_status_id</th>\n",
       "      <th>retweeted_status_user_id</th>\n",
       "      <th>retweeted_status_timestamp</th>\n",
       "      <th>expanded_urls</th>\n",
       "      <th>rating_numerator</th>\n",
       "      <th>rating_denominator</th>\n",
       "      <th>name</th>\n",
       "      <th>doggo</th>\n",
       "      <th>floofer</th>\n",
       "      <th>pupper</th>\n",
       "      <th>puppo</th>\n",
       "    </tr>\n",
       "  </thead>\n",
       "  <tbody>\n",
       "    <tr>\n",
       "      <th>958</th>\n",
       "      <td>751456908746354688</td>\n",
       "      <td>NaN</td>\n",
       "      <td>NaN</td>\n",
       "      <td>2016-07-08 16:44:23 +0000</td>\n",
       "      <td>&lt;a href=\"http://twitter.com/download/iphone\" r...</td>\n",
       "      <td>Here's a pupper that's very hungry but too laz...</td>\n",
       "      <td>NaN</td>\n",
       "      <td>NaN</td>\n",
       "      <td>NaN</td>\n",
       "      <td>https://twitter.com/dog_rates/status/751456908...</td>\n",
       "      <td>12</td>\n",
       "      <td>10</td>\n",
       "      <td>None</td>\n",
       "      <td>None</td>\n",
       "      <td>None</td>\n",
       "      <td>pupper</td>\n",
       "      <td>None</td>\n",
       "    </tr>\n",
       "  </tbody>\n",
       "</table>\n",
       "</div>"
      ],
      "text/plain": [
       "               tweet_id  in_reply_to_status_id  in_reply_to_user_id  \\\n",
       "958  751456908746354688                    NaN                  NaN   \n",
       "\n",
       "                     timestamp  \\\n",
       "958  2016-07-08 16:44:23 +0000   \n",
       "\n",
       "                                                source  \\\n",
       "958  <a href=\"http://twitter.com/download/iphone\" r...   \n",
       "\n",
       "                                                  text  retweeted_status_id  \\\n",
       "958  Here's a pupper that's very hungry but too laz...                  NaN   \n",
       "\n",
       "     retweeted_status_user_id retweeted_status_timestamp  \\\n",
       "958                       NaN                        NaN   \n",
       "\n",
       "                                         expanded_urls  rating_numerator  \\\n",
       "958  https://twitter.com/dog_rates/status/751456908...                12   \n",
       "\n",
       "     rating_denominator  name doggo floofer  pupper puppo  \n",
       "958                  10  None  None    None  pupper  None  "
      ]
     },
     "execution_count": 69,
     "metadata": {},
     "output_type": "execute_result"
    }
   ],
   "source": [
    "df1_clean.sample()"
   ]
  },
  {
   "cell_type": "markdown",
   "id": "d6f898c6",
   "metadata": {},
   "source": []
  },
  {
   "cell_type": "markdown",
   "id": "33aa7bce",
   "metadata": {},
   "source": [
    "## Tidiness issue #1"
   ]
  },
  {
   "cell_type": "markdown",
   "id": "9b6ea055",
   "metadata": {},
   "source": [
    "### Define"
   ]
  },
  {
   "cell_type": "markdown",
   "id": "5149d806",
   "metadata": {},
   "source": [
    "2. reshaping df_1_clean... putting the dog stages doggo, floofer , pupper and puppo in a column using melt function"
   ]
  },
  {
   "cell_type": "markdown",
   "id": "711f0557",
   "metadata": {},
   "source": [
    "### code"
   ]
  },
  {
   "cell_type": "code",
   "execution_count": 43,
   "id": "e7c8626d",
   "metadata": {},
   "outputs": [],
   "source": [
    "# reshaping df_1_clean... putting the dog stages doggo, floofer , pupper and puppo in a column using melt function"
   ]
  },
  {
   "cell_type": "code",
   "execution_count": 65,
   "id": "39f4c07c",
   "metadata": {},
   "outputs": [],
   "source": [
    "df1_clean = pd.melt(df1_clean, id_vars=['tweet_id','in_reply_to_status_id','timestamp','source','text','retweeted_status_id','retweeted_status_timestamp','expanded_urls','rating_numerator','rating_denominator','name'], \n",
    "                 var_name=\"dog_stages\", value_name=\"dog_stages_name\")\n"
   ]
  },
  {
   "cell_type": "markdown",
   "id": "3e769d50",
   "metadata": {},
   "source": [
    "### test"
   ]
  },
  {
   "cell_type": "code",
   "execution_count": 44,
   "id": "62db0d18",
   "metadata": {},
   "outputs": [],
   "source": [
    "# checking to see if df_1_clean have been reshaped."
   ]
  },
  {
   "cell_type": "code",
   "execution_count": 74,
   "id": "f51e66ce",
   "metadata": {},
   "outputs": [
    {
     "data": {
      "text/html": [
       "<div>\n",
       "<style scoped>\n",
       "    .dataframe tbody tr th:only-of-type {\n",
       "        vertical-align: middle;\n",
       "    }\n",
       "\n",
       "    .dataframe tbody tr th {\n",
       "        vertical-align: top;\n",
       "    }\n",
       "\n",
       "    .dataframe thead th {\n",
       "        text-align: right;\n",
       "    }\n",
       "</style>\n",
       "<table border=\"1\" class=\"dataframe\">\n",
       "  <thead>\n",
       "    <tr style=\"text-align: right;\">\n",
       "      <th></th>\n",
       "      <th>tweet_id</th>\n",
       "      <th>in_reply_to_status_id</th>\n",
       "      <th>timestamp</th>\n",
       "      <th>source</th>\n",
       "      <th>text</th>\n",
       "      <th>retweeted_status_id</th>\n",
       "      <th>retweeted_status_timestamp</th>\n",
       "      <th>expanded_urls</th>\n",
       "      <th>rating_numerator</th>\n",
       "      <th>rating_denominator</th>\n",
       "      <th>name</th>\n",
       "      <th>dog_stages</th>\n",
       "      <th>dog_stages_name</th>\n",
       "    </tr>\n",
       "  </thead>\n",
       "  <tbody>\n",
       "    <tr>\n",
       "      <th>2239</th>\n",
       "      <td>667937095915278337</td>\n",
       "      <td>NaN</td>\n",
       "      <td>2015-11-21 05:26:27 +0000</td>\n",
       "      <td>&lt;a href=\"http://twitter.com/download/iphone\" r...</td>\n",
       "      <td>This dog resembles a baked potato. Bed looks u...</td>\n",
       "      <td>NaN</td>\n",
       "      <td>NaN</td>\n",
       "      <td>https://twitter.com/dog_rates/status/667937095...</td>\n",
       "      <td>3</td>\n",
       "      <td>10</td>\n",
       "      <td>None</td>\n",
       "      <td>in_reply_to_user_id</td>\n",
       "      <td>NaN</td>\n",
       "    </tr>\n",
       "    <tr>\n",
       "      <th>8913</th>\n",
       "      <td>675845657354215424</td>\n",
       "      <td>NaN</td>\n",
       "      <td>2015-12-13 01:12:15 +0000</td>\n",
       "      <td>&lt;a href=\"http://twitter.com/download/iphone\" r...</td>\n",
       "      <td>This is Pepper. She's not fully comfortable ri...</td>\n",
       "      <td>NaN</td>\n",
       "      <td>NaN</td>\n",
       "      <td>https://twitter.com/dog_rates/status/675845657...</td>\n",
       "      <td>10</td>\n",
       "      <td>10</td>\n",
       "      <td>Pepper</td>\n",
       "      <td>floofer</td>\n",
       "      <td>None</td>\n",
       "    </tr>\n",
       "  </tbody>\n",
       "</table>\n",
       "</div>"
      ],
      "text/plain": [
       "                tweet_id  in_reply_to_status_id                  timestamp  \\\n",
       "2239  667937095915278337                    NaN  2015-11-21 05:26:27 +0000   \n",
       "8913  675845657354215424                    NaN  2015-12-13 01:12:15 +0000   \n",
       "\n",
       "                                                 source  \\\n",
       "2239  <a href=\"http://twitter.com/download/iphone\" r...   \n",
       "8913  <a href=\"http://twitter.com/download/iphone\" r...   \n",
       "\n",
       "                                                   text  retweeted_status_id  \\\n",
       "2239  This dog resembles a baked potato. Bed looks u...                  NaN   \n",
       "8913  This is Pepper. She's not fully comfortable ri...                  NaN   \n",
       "\n",
       "     retweeted_status_timestamp  \\\n",
       "2239                        NaN   \n",
       "8913                        NaN   \n",
       "\n",
       "                                          expanded_urls  rating_numerator  \\\n",
       "2239  https://twitter.com/dog_rates/status/667937095...                 3   \n",
       "8913  https://twitter.com/dog_rates/status/675845657...                10   \n",
       "\n",
       "      rating_denominator    name           dog_stages dog_stages_name  \n",
       "2239                  10    None  in_reply_to_user_id             NaN  \n",
       "8913                  10  Pepper              floofer            None  "
      ]
     },
     "execution_count": 74,
     "metadata": {},
     "output_type": "execute_result"
    }
   ],
   "source": [
    "df1_clean.sample(2)"
   ]
  },
  {
   "cell_type": "markdown",
   "id": "b68487d0",
   "metadata": {},
   "source": [
    "## quality  issue #1"
   ]
  },
  {
   "cell_type": "markdown",
   "id": "91ed12ce",
   "metadata": {},
   "source": [
    "### Define"
   ]
  },
  {
   "cell_type": "markdown",
   "id": "4cc57aee",
   "metadata": {},
   "source": [
    "extract the text from the anchor in the source column in df_1"
   ]
  },
  {
   "cell_type": "markdown",
   "id": "cc786aec",
   "metadata": {},
   "source": [
    "### code"
   ]
  },
  {
   "cell_type": "code",
   "execution_count": 75,
   "id": "ae2516f7",
   "metadata": {},
   "outputs": [
    {
     "data": {
      "text/plain": [
       "<a href=\"http://twitter.com/download/iphone\" rel=\"nofollow\">Twitter for iPhone</a>     13326\n",
       "<a href=\"http://vine.co\" rel=\"nofollow\">Vine - Make a Scene</a>                          546\n",
       "<a href=\"http://twitter.com\" rel=\"nofollow\">Twitter Web Client</a>                       198\n",
       "<a href=\"https://about.twitter.com/products/tweetdeck\" rel=\"nofollow\">TweetDeck</a>       66\n",
       "Name: source, dtype: int64"
      ]
     },
     "execution_count": 75,
     "metadata": {},
     "output_type": "execute_result"
    }
   ],
   "source": [
    "# Getting the unique values in source column\n",
    "df1_clean.source.value_counts()"
   ]
  },
  {
   "cell_type": "code",
   "execution_count": 111,
   "id": "350acfff",
   "metadata": {},
   "outputs": [],
   "source": [
    "# Replacing the source with only the text component\n",
    "df1_clean.source.replace('<a href=\"http://twitter.com/download/iphone\" rel=\"nofollow\">Twitter for iPhone</a>', 'Twitter for iPhone', inplace=True)\n",
    "df1_clean.source.replace('<a href=\"http://vine.co\" rel=\"nofollow\">Vine - Make a Scene</a>', 'Vine - Make a Scene', inplace=True)\n",
    "df1_clean.source.replace('<a href=\"http://twitter.com\" rel=\"nofollow\">Twitter Web Client</a>', 'Twitter Web Client', inplace=True)\n",
    "df1_clean.source.replace('<a href=\"https://about.twitter.com/products/tweetdeck\" rel=\"nofollow\">TweetDeck</a>', 'TweetDeck', inplace=True)"
   ]
  },
  {
   "cell_type": "markdown",
   "id": "904278e0",
   "metadata": {},
   "source": [
    "### test"
   ]
  },
  {
   "cell_type": "code",
   "execution_count": 45,
   "id": "cffdf815",
   "metadata": {},
   "outputs": [],
   "source": [
    "# checking if the text have been extracted from the anchor"
   ]
  },
  {
   "cell_type": "code",
   "execution_count": 112,
   "id": "d00ff060",
   "metadata": {},
   "outputs": [
    {
     "data": {
      "text/plain": [
       "Twitter for iPhone     13326\n",
       "Vine - Make a Scene      546\n",
       "Twitter Web Client       198\n",
       "TweetDeck                 66\n",
       "Name: source, dtype: int64"
      ]
     },
     "execution_count": 112,
     "metadata": {},
     "output_type": "execute_result"
    }
   ],
   "source": [
    "df1_clean.source.value_counts()"
   ]
  },
  {
   "cell_type": "code",
   "execution_count": 46,
   "id": "5cf620a6",
   "metadata": {},
   "outputs": [],
   "source": [
    "# checking if the text have been extracted from the anchor"
   ]
  },
  {
   "cell_type": "code",
   "execution_count": 104,
   "id": "9ee2b282",
   "metadata": {},
   "outputs": [
    {
     "data": {
      "text/html": [
       "<div>\n",
       "<style scoped>\n",
       "    .dataframe tbody tr th:only-of-type {\n",
       "        vertical-align: middle;\n",
       "    }\n",
       "\n",
       "    .dataframe tbody tr th {\n",
       "        vertical-align: top;\n",
       "    }\n",
       "\n",
       "    .dataframe thead th {\n",
       "        text-align: right;\n",
       "    }\n",
       "</style>\n",
       "<table border=\"1\" class=\"dataframe\">\n",
       "  <thead>\n",
       "    <tr style=\"text-align: right;\">\n",
       "      <th></th>\n",
       "      <th>tweet_id</th>\n",
       "      <th>timestamp</th>\n",
       "      <th>source</th>\n",
       "      <th>text</th>\n",
       "      <th>expanded_urls</th>\n",
       "      <th>rating_numerator</th>\n",
       "      <th>rating_denominator</th>\n",
       "      <th>name</th>\n",
       "      <th>dog_stages</th>\n",
       "      <th>dog_stages_name</th>\n",
       "    </tr>\n",
       "  </thead>\n",
       "  <tbody>\n",
       "    <tr>\n",
       "      <th>1016</th>\n",
       "      <td>746906459439529985</td>\n",
       "      <td>2016-06-26 03:22:31 +0000</td>\n",
       "      <td>Twitter for iPhone</td>\n",
       "      <td>PUPDATE: can't see any. Even if I could, I cou...</td>\n",
       "      <td>https://twitter.com/dog_rates/status/746906459...</td>\n",
       "      <td>0</td>\n",
       "      <td>10</td>\n",
       "      <td>None</td>\n",
       "      <td></td>\n",
       "      <td>4196983835.0</td>\n",
       "    </tr>\n",
       "  </tbody>\n",
       "</table>\n",
       "</div>"
      ],
      "text/plain": [
       "                tweet_id                  timestamp              source  \\\n",
       "1016  746906459439529985  2016-06-26 03:22:31 +0000  Twitter for iPhone   \n",
       "\n",
       "                                                   text  \\\n",
       "1016  PUPDATE: can't see any. Even if I could, I cou...   \n",
       "\n",
       "                                          expanded_urls  rating_numerator  \\\n",
       "1016  https://twitter.com/dog_rates/status/746906459...                 0   \n",
       "\n",
       "      rating_denominator  name dog_stages dog_stages_name  \n",
       "1016                  10  None               4196983835.0  "
      ]
     },
     "execution_count": 104,
     "metadata": {},
     "output_type": "execute_result"
    }
   ],
   "source": [
    "df1_clean.sample()"
   ]
  },
  {
   "cell_type": "code",
   "execution_count": null,
   "id": "2cdee66d",
   "metadata": {},
   "outputs": [],
   "source": []
  },
  {
   "cell_type": "markdown",
   "id": "1a7b4d26",
   "metadata": {},
   "source": []
  },
  {
   "cell_type": "markdown",
   "id": "0adbc626",
   "metadata": {},
   "source": [
    "## quality  issue #2"
   ]
  },
  {
   "cell_type": "markdown",
   "id": "e196c651",
   "metadata": {},
   "source": [
    "### Define"
   ]
  },
  {
   "cell_type": "markdown",
   "id": "792d9733",
   "metadata": {},
   "source": [
    " - Dropping Rows where Retweet_id is not null (reason: I need Tweets and not Retweets for my analysis)\n",
    " - Dropping rows where rating_denominator not equal to 10 \n",
    " - Remove rows where dog name is in lower case (fake names)\n",
    " - Drop column image_num img_num in image predictions dataframe(df_2_clean) because I won't be using it for analysis"
   ]
  },
  {
   "cell_type": "markdown",
   "id": "4684ec91",
   "metadata": {},
   "source": [
    "### code"
   ]
  },
  {
   "cell_type": "code",
   "execution_count": 79,
   "id": "cf760154",
   "metadata": {},
   "outputs": [],
   "source": [
    "# Filter to get only rows where retweets is empty\n",
    "df1_clean = df1_clean[df1_clean.retweeted_status_id.isnull()]"
   ]
  },
  {
   "cell_type": "code",
   "execution_count": 34,
   "id": "01fdbe45",
   "metadata": {},
   "outputs": [],
   "source": [
    "# getting the number of rating_denominator not equal to 10 "
   ]
  },
  {
   "cell_type": "code",
   "execution_count": 82,
   "id": "68b103fd",
   "metadata": {},
   "outputs": [
    {
     "data": {
      "text/plain": [
       "132"
      ]
     },
     "execution_count": 82,
     "metadata": {},
     "output_type": "execute_result"
    }
   ],
   "source": [
    "# Getting the count of rows where denominator is not equal to 10\n",
    "len(df1_clean.rating_denominator[df1_clean.rating_denominator != 10])"
   ]
  },
  {
   "cell_type": "code",
   "execution_count": 33,
   "id": "f3f6befb",
   "metadata": {},
   "outputs": [],
   "source": [
    "#  Dropping rows where rating_denominator not equal to 10 "
   ]
  },
  {
   "cell_type": "code",
   "execution_count": 83,
   "id": "60110c2f",
   "metadata": {},
   "outputs": [],
   "source": [
    "# Filter to get only rows where rating_denominator is equal to 10\n",
    "df1_clean= df1_clean[df1_clean['rating_denominator'] == 10]"
   ]
  },
  {
   "cell_type": "code",
   "execution_count": 37,
   "id": "83f10cc8",
   "metadata": {},
   "outputs": [],
   "source": [
    "# using Regex(Regular expressions) to get the list of all names that are not uppercase "
   ]
  },
  {
   "cell_type": "code",
   "execution_count": 85,
   "id": "1794dd9d",
   "metadata": {},
   "outputs": [
    {
     "data": {
      "text/plain": [
       "a               324\n",
       "actually         12\n",
       "all               6\n",
       "an               30\n",
       "by                6\n",
       "getting          12\n",
       "his               6\n",
       "incredibly        6\n",
       "infuriating       6\n",
       "just             18\n",
       "life              6\n",
       "light             6\n",
       "mad               6\n",
       "my                6\n",
       "not              12\n",
       "officially        6\n",
       "old               6\n",
       "one              24\n",
       "quite            18\n",
       "space             6\n",
       "such              6\n",
       "the              48\n",
       "unacceptable      6\n",
       "very             24\n",
       "Name: name, dtype: int64"
      ]
     },
     "execution_count": 85,
     "metadata": {},
     "output_type": "execute_result"
    }
   ],
   "source": [
    "# Using Regex(Regular expressions) to get the list of all names that are not uppercase \n",
    "lowercase_names = df1_clean.name.str.contains('^[a-z]', regex = True)\n",
    "df1_clean[lowercase_names].name.value_counts().sort_index()"
   ]
  },
  {
   "cell_type": "code",
   "execution_count": 40,
   "id": "b423fb8e",
   "metadata": {},
   "outputs": [],
   "source": [
    "# Filter out rows where name contains with lower case letter"
   ]
  },
  {
   "cell_type": "code",
   "execution_count": 86,
   "id": "7354cf13",
   "metadata": {},
   "outputs": [],
   "source": [
    "# Filter out rows where name contains with lower case letter\n",
    "df1_clean = df1_clean[df1_clean['name'].str.contains('^[A-Z]+')]"
   ]
  },
  {
   "cell_type": "code",
   "execution_count": null,
   "id": "e4f13048",
   "metadata": {},
   "outputs": [],
   "source": [
    "# Drop column image_num img_num in image predictions dataframe(df_2_clean) because I won't be using it for analysis"
   ]
  },
  {
   "cell_type": "code",
   "execution_count": 65,
   "id": "9f740b7a",
   "metadata": {},
   "outputs": [],
   "source": [
    "df_2_clean.drop('img_num', axis=1, inplace=True)"
   ]
  },
  {
   "cell_type": "markdown",
   "id": "11d2c561",
   "metadata": {},
   "source": [
    "### test"
   ]
  },
  {
   "cell_type": "code",
   "execution_count": 35,
   "id": "d0a4d09e",
   "metadata": {},
   "outputs": [],
   "source": [
    "# checking if we still have retweet rows left"
   ]
  },
  {
   "cell_type": "code",
   "execution_count": 80,
   "id": "729e1b51",
   "metadata": {},
   "outputs": [
    {
     "data": {
      "text/plain": [
       "0"
      ]
     },
     "execution_count": 80,
     "metadata": {},
     "output_type": "execute_result"
    }
   ],
   "source": [
    "df1_clean.retweeted_status_id.notnull().sum()"
   ]
  },
  {
   "cell_type": "code",
   "execution_count": 36,
   "id": "c9333cea",
   "metadata": {},
   "outputs": [],
   "source": [
    "# checking if we still have rows where rate denominator is not equal 10"
   ]
  },
  {
   "cell_type": "code",
   "execution_count": 84,
   "id": "92176af1",
   "metadata": {},
   "outputs": [
    {
     "data": {
      "text/plain": [
       "0"
      ]
     },
     "execution_count": 84,
     "metadata": {},
     "output_type": "execute_result"
    }
   ],
   "source": [
    "len(df1_clean.rating_denominator[df1_clean.rating_denominator != 10])"
   ]
  },
  {
   "cell_type": "code",
   "execution_count": 39,
   "id": "dc1982af",
   "metadata": {},
   "outputs": [],
   "source": [
    "# checking if we still have rows where name contains lower case letter"
   ]
  },
  {
   "cell_type": "code",
   "execution_count": 195,
   "id": "10a3eb44",
   "metadata": {},
   "outputs": [
    {
     "data": {
      "text/plain": [
       "0"
      ]
     },
     "execution_count": 195,
     "metadata": {},
     "output_type": "execute_result"
    }
   ],
   "source": [
    "len(df1_clean[lowercase_names].name)"
   ]
  },
  {
   "cell_type": "code",
   "execution_count": 42,
   "id": "0650303c",
   "metadata": {},
   "outputs": [],
   "source": [
    " # checking if column image_num img_num in image predictions dataframe(df_2_clean) have been dropped"
   ]
  },
  {
   "cell_type": "code",
   "execution_count": 93,
   "id": "ee98b5da",
   "metadata": {},
   "outputs": [
    {
     "data": {
      "text/html": [
       "<div>\n",
       "<style scoped>\n",
       "    .dataframe tbody tr th:only-of-type {\n",
       "        vertical-align: middle;\n",
       "    }\n",
       "\n",
       "    .dataframe tbody tr th {\n",
       "        vertical-align: top;\n",
       "    }\n",
       "\n",
       "    .dataframe thead th {\n",
       "        text-align: right;\n",
       "    }\n",
       "</style>\n",
       "<table border=\"1\" class=\"dataframe\">\n",
       "  <thead>\n",
       "    <tr style=\"text-align: right;\">\n",
       "      <th></th>\n",
       "      <th>tweet_id</th>\n",
       "      <th>timestamp</th>\n",
       "      <th>source</th>\n",
       "      <th>text</th>\n",
       "      <th>expanded_urls</th>\n",
       "      <th>rating_numerator</th>\n",
       "      <th>rating_denominator</th>\n",
       "      <th>name</th>\n",
       "      <th>dog_stages</th>\n",
       "      <th>dog_stages_name</th>\n",
       "    </tr>\n",
       "  </thead>\n",
       "  <tbody>\n",
       "    <tr>\n",
       "      <th>3581</th>\n",
       "      <td>714141408463036416</td>\n",
       "      <td>2016-03-27 17:25:54 +0000</td>\n",
       "      <td>Twitter for iPhone</td>\n",
       "      <td>I know we only rate dogs, but since it's Easte...</td>\n",
       "      <td>https://twitter.com/dog_rates/status/714141408...</td>\n",
       "      <td>10</td>\n",
       "      <td>10</td>\n",
       "      <td>None</td>\n",
       "      <td>retweeted_status_user_id</td>\n",
       "      <td>NaN</td>\n",
       "    </tr>\n",
       "  </tbody>\n",
       "</table>\n",
       "</div>"
      ],
      "text/plain": [
       "                tweet_id                  timestamp              source  \\\n",
       "3581  714141408463036416  2016-03-27 17:25:54 +0000  Twitter for iPhone   \n",
       "\n",
       "                                                   text  \\\n",
       "3581  I know we only rate dogs, but since it's Easte...   \n",
       "\n",
       "                                          expanded_urls  rating_numerator  \\\n",
       "3581  https://twitter.com/dog_rates/status/714141408...                10   \n",
       "\n",
       "      rating_denominator  name                dog_stages dog_stages_name  \n",
       "3581                  10  None  retweeted_status_user_id             NaN  "
      ]
     },
     "execution_count": 93,
     "metadata": {},
     "output_type": "execute_result"
    }
   ],
   "source": [
    "df1_clean.sample()"
   ]
  },
  {
   "cell_type": "markdown",
   "id": "6da93bd5",
   "metadata": {},
   "source": [
    "## quality issue #3"
   ]
  },
  {
   "cell_type": "markdown",
   "id": "ca720698",
   "metadata": {},
   "source": [
    "### Define"
   ]
  },
  {
   "cell_type": "markdown",
   "id": "9b8f0668",
   "metadata": {},
   "source": [
    "Drop column image number retweeted_status_id,\tretweeted_status_timestamp,in_reply_to_status_id in df_1_clean because I won't be using it for analysis"
   ]
  },
  {
   "cell_type": "code",
   "execution_count": null,
   "id": "25c509c0",
   "metadata": {},
   "outputs": [],
   "source": []
  },
  {
   "cell_type": "markdown",
   "id": "12e72fc9",
   "metadata": {},
   "source": [
    "### code"
   ]
  },
  {
   "cell_type": "code",
   "execution_count": 48,
   "id": "d62c77e9",
   "metadata": {},
   "outputs": [],
   "source": [
    "# Drop column  retweeted_status_id, retweeted_status_timestamp,in_reply_to_status_id in df_1_clean"
   ]
  },
  {
   "cell_type": "code",
   "execution_count": 69,
   "id": "2c7609d3",
   "metadata": {},
   "outputs": [],
   "source": [
    "df1_clean.drop(['retweeted_status_id','retweeted_status_timestamp','in_reply_to_status_id'], axis=1, inplace=True)"
   ]
  },
  {
   "cell_type": "code",
   "execution_count": 11,
   "id": "a5f570a8",
   "metadata": {},
   "outputs": [],
   "source": []
  },
  {
   "cell_type": "markdown",
   "id": "dd1db72c",
   "metadata": {},
   "source": [
    "### test"
   ]
  },
  {
   "cell_type": "code",
   "execution_count": 57,
   "id": "1f4b927d",
   "metadata": {},
   "outputs": [],
   "source": [
    "# checking if column  retweeted_status_id, retweeted_status_timestamp have been dropped"
   ]
  },
  {
   "cell_type": "code",
   "execution_count": 49,
   "id": "b577d941",
   "metadata": {},
   "outputs": [
    {
     "data": {
      "text/plain": [
       "Index(['tweet_id', 'in_reply_to_user_id', 'timestamp', 'source', 'text',\n",
       "       'retweeted_status_user_id', 'expanded_urls', 'rating_numerator',\n",
       "       'rating_denominator', 'name', 'doggo', 'floofer', 'pupper', 'puppo'],\n",
       "      dtype='object')"
      ]
     },
     "execution_count": 49,
     "metadata": {},
     "output_type": "execute_result"
    }
   ],
   "source": [
    "df1_clean.columns"
   ]
  },
  {
   "cell_type": "markdown",
   "id": "248fedfc",
   "metadata": {},
   "source": [
    "## quality issue #4"
   ]
  },
  {
   "cell_type": "markdown",
   "id": "acfac970",
   "metadata": {},
   "source": [
    "### Define"
   ]
  },
  {
   "cell_type": "markdown",
   "id": "c11d95d4",
   "metadata": {},
   "source": [
    " Drop column in_reply_to_user_id in df1_clean because I won't be using it for analysis"
   ]
  },
  {
   "cell_type": "markdown",
   "id": "8a5dc9e0",
   "metadata": {},
   "source": [
    "### code"
   ]
  },
  {
   "cell_type": "code",
   "execution_count": 70,
   "id": "b952e04b",
   "metadata": {},
   "outputs": [
    {
     "ename": "KeyError",
     "evalue": "\"['in_reply_to_user_id'] not found in axis\"",
     "output_type": "error",
     "traceback": [
      "\u001b[1;31m---------------------------------------------------------------------------\u001b[0m",
      "\u001b[1;31mKeyError\u001b[0m                                  Traceback (most recent call last)",
      "Input \u001b[1;32mIn [70]\u001b[0m, in \u001b[0;36m<cell line: 1>\u001b[1;34m()\u001b[0m\n\u001b[1;32m----> 1\u001b[0m \u001b[43mdf1_clean\u001b[49m\u001b[38;5;241;43m.\u001b[39;49m\u001b[43mdrop\u001b[49m\u001b[43m(\u001b[49m\u001b[43m[\u001b[49m\u001b[38;5;124;43m'\u001b[39;49m\u001b[38;5;124;43min_reply_to_user_id\u001b[39;49m\u001b[38;5;124;43m'\u001b[39;49m\u001b[43m]\u001b[49m\u001b[43m,\u001b[49m\u001b[43m \u001b[49m\u001b[43maxis\u001b[49m\u001b[38;5;241;43m=\u001b[39;49m\u001b[38;5;241;43m1\u001b[39;49m\u001b[43m,\u001b[49m\u001b[43m \u001b[49m\u001b[43minplace\u001b[49m\u001b[38;5;241;43m=\u001b[39;49m\u001b[38;5;28;43;01mTrue\u001b[39;49;00m\u001b[43m)\u001b[49m\n",
      "File \u001b[1;32m~\\anaconda3\\envs\\main\\lib\\site-packages\\pandas\\util\\_decorators.py:311\u001b[0m, in \u001b[0;36mdeprecate_nonkeyword_arguments.<locals>.decorate.<locals>.wrapper\u001b[1;34m(*args, **kwargs)\u001b[0m\n\u001b[0;32m    305\u001b[0m \u001b[38;5;28;01mif\u001b[39;00m \u001b[38;5;28mlen\u001b[39m(args) \u001b[38;5;241m>\u001b[39m num_allow_args:\n\u001b[0;32m    306\u001b[0m     warnings\u001b[38;5;241m.\u001b[39mwarn(\n\u001b[0;32m    307\u001b[0m         msg\u001b[38;5;241m.\u001b[39mformat(arguments\u001b[38;5;241m=\u001b[39marguments),\n\u001b[0;32m    308\u001b[0m         \u001b[38;5;167;01mFutureWarning\u001b[39;00m,\n\u001b[0;32m    309\u001b[0m         stacklevel\u001b[38;5;241m=\u001b[39mstacklevel,\n\u001b[0;32m    310\u001b[0m     )\n\u001b[1;32m--> 311\u001b[0m \u001b[38;5;28;01mreturn\u001b[39;00m func(\u001b[38;5;241m*\u001b[39margs, \u001b[38;5;241m*\u001b[39m\u001b[38;5;241m*\u001b[39mkwargs)\n",
      "File \u001b[1;32m~\\anaconda3\\envs\\main\\lib\\site-packages\\pandas\\core\\frame.py:4954\u001b[0m, in \u001b[0;36mDataFrame.drop\u001b[1;34m(self, labels, axis, index, columns, level, inplace, errors)\u001b[0m\n\u001b[0;32m   4806\u001b[0m \u001b[38;5;129m@deprecate_nonkeyword_arguments\u001b[39m(version\u001b[38;5;241m=\u001b[39m\u001b[38;5;28;01mNone\u001b[39;00m, allowed_args\u001b[38;5;241m=\u001b[39m[\u001b[38;5;124m\"\u001b[39m\u001b[38;5;124mself\u001b[39m\u001b[38;5;124m\"\u001b[39m, \u001b[38;5;124m\"\u001b[39m\u001b[38;5;124mlabels\u001b[39m\u001b[38;5;124m\"\u001b[39m])\n\u001b[0;32m   4807\u001b[0m \u001b[38;5;28;01mdef\u001b[39;00m \u001b[38;5;21mdrop\u001b[39m(\n\u001b[0;32m   4808\u001b[0m     \u001b[38;5;28mself\u001b[39m,\n\u001b[1;32m   (...)\u001b[0m\n\u001b[0;32m   4815\u001b[0m     errors: \u001b[38;5;28mstr\u001b[39m \u001b[38;5;241m=\u001b[39m \u001b[38;5;124m\"\u001b[39m\u001b[38;5;124mraise\u001b[39m\u001b[38;5;124m\"\u001b[39m,\n\u001b[0;32m   4816\u001b[0m ):\n\u001b[0;32m   4817\u001b[0m     \u001b[38;5;124;03m\"\"\"\u001b[39;00m\n\u001b[0;32m   4818\u001b[0m \u001b[38;5;124;03m    Drop specified labels from rows or columns.\u001b[39;00m\n\u001b[0;32m   4819\u001b[0m \n\u001b[1;32m   (...)\u001b[0m\n\u001b[0;32m   4952\u001b[0m \u001b[38;5;124;03m            weight  1.0     0.8\u001b[39;00m\n\u001b[0;32m   4953\u001b[0m \u001b[38;5;124;03m    \"\"\"\u001b[39;00m\n\u001b[1;32m-> 4954\u001b[0m     \u001b[38;5;28;01mreturn\u001b[39;00m \u001b[38;5;28;43msuper\u001b[39;49m\u001b[43m(\u001b[49m\u001b[43m)\u001b[49m\u001b[38;5;241;43m.\u001b[39;49m\u001b[43mdrop\u001b[49m\u001b[43m(\u001b[49m\n\u001b[0;32m   4955\u001b[0m \u001b[43m        \u001b[49m\u001b[43mlabels\u001b[49m\u001b[38;5;241;43m=\u001b[39;49m\u001b[43mlabels\u001b[49m\u001b[43m,\u001b[49m\n\u001b[0;32m   4956\u001b[0m \u001b[43m        \u001b[49m\u001b[43maxis\u001b[49m\u001b[38;5;241;43m=\u001b[39;49m\u001b[43maxis\u001b[49m\u001b[43m,\u001b[49m\n\u001b[0;32m   4957\u001b[0m \u001b[43m        \u001b[49m\u001b[43mindex\u001b[49m\u001b[38;5;241;43m=\u001b[39;49m\u001b[43mindex\u001b[49m\u001b[43m,\u001b[49m\n\u001b[0;32m   4958\u001b[0m \u001b[43m        \u001b[49m\u001b[43mcolumns\u001b[49m\u001b[38;5;241;43m=\u001b[39;49m\u001b[43mcolumns\u001b[49m\u001b[43m,\u001b[49m\n\u001b[0;32m   4959\u001b[0m \u001b[43m        \u001b[49m\u001b[43mlevel\u001b[49m\u001b[38;5;241;43m=\u001b[39;49m\u001b[43mlevel\u001b[49m\u001b[43m,\u001b[49m\n\u001b[0;32m   4960\u001b[0m \u001b[43m        \u001b[49m\u001b[43minplace\u001b[49m\u001b[38;5;241;43m=\u001b[39;49m\u001b[43minplace\u001b[49m\u001b[43m,\u001b[49m\n\u001b[0;32m   4961\u001b[0m \u001b[43m        \u001b[49m\u001b[43merrors\u001b[49m\u001b[38;5;241;43m=\u001b[39;49m\u001b[43merrors\u001b[49m\u001b[43m,\u001b[49m\n\u001b[0;32m   4962\u001b[0m \u001b[43m    \u001b[49m\u001b[43m)\u001b[49m\n",
      "File \u001b[1;32m~\\anaconda3\\envs\\main\\lib\\site-packages\\pandas\\core\\generic.py:4267\u001b[0m, in \u001b[0;36mNDFrame.drop\u001b[1;34m(self, labels, axis, index, columns, level, inplace, errors)\u001b[0m\n\u001b[0;32m   4265\u001b[0m \u001b[38;5;28;01mfor\u001b[39;00m axis, labels \u001b[38;5;129;01min\u001b[39;00m axes\u001b[38;5;241m.\u001b[39mitems():\n\u001b[0;32m   4266\u001b[0m     \u001b[38;5;28;01mif\u001b[39;00m labels \u001b[38;5;129;01mis\u001b[39;00m \u001b[38;5;129;01mnot\u001b[39;00m \u001b[38;5;28;01mNone\u001b[39;00m:\n\u001b[1;32m-> 4267\u001b[0m         obj \u001b[38;5;241m=\u001b[39m \u001b[43mobj\u001b[49m\u001b[38;5;241;43m.\u001b[39;49m\u001b[43m_drop_axis\u001b[49m\u001b[43m(\u001b[49m\u001b[43mlabels\u001b[49m\u001b[43m,\u001b[49m\u001b[43m \u001b[49m\u001b[43maxis\u001b[49m\u001b[43m,\u001b[49m\u001b[43m \u001b[49m\u001b[43mlevel\u001b[49m\u001b[38;5;241;43m=\u001b[39;49m\u001b[43mlevel\u001b[49m\u001b[43m,\u001b[49m\u001b[43m \u001b[49m\u001b[43merrors\u001b[49m\u001b[38;5;241;43m=\u001b[39;49m\u001b[43merrors\u001b[49m\u001b[43m)\u001b[49m\n\u001b[0;32m   4269\u001b[0m \u001b[38;5;28;01mif\u001b[39;00m inplace:\n\u001b[0;32m   4270\u001b[0m     \u001b[38;5;28mself\u001b[39m\u001b[38;5;241m.\u001b[39m_update_inplace(obj)\n",
      "File \u001b[1;32m~\\anaconda3\\envs\\main\\lib\\site-packages\\pandas\\core\\generic.py:4311\u001b[0m, in \u001b[0;36mNDFrame._drop_axis\u001b[1;34m(self, labels, axis, level, errors, consolidate, only_slice)\u001b[0m\n\u001b[0;32m   4309\u001b[0m         new_axis \u001b[38;5;241m=\u001b[39m axis\u001b[38;5;241m.\u001b[39mdrop(labels, level\u001b[38;5;241m=\u001b[39mlevel, errors\u001b[38;5;241m=\u001b[39merrors)\n\u001b[0;32m   4310\u001b[0m     \u001b[38;5;28;01melse\u001b[39;00m:\n\u001b[1;32m-> 4311\u001b[0m         new_axis \u001b[38;5;241m=\u001b[39m \u001b[43maxis\u001b[49m\u001b[38;5;241;43m.\u001b[39;49m\u001b[43mdrop\u001b[49m\u001b[43m(\u001b[49m\u001b[43mlabels\u001b[49m\u001b[43m,\u001b[49m\u001b[43m \u001b[49m\u001b[43merrors\u001b[49m\u001b[38;5;241;43m=\u001b[39;49m\u001b[43merrors\u001b[49m\u001b[43m)\u001b[49m\n\u001b[0;32m   4312\u001b[0m     indexer \u001b[38;5;241m=\u001b[39m axis\u001b[38;5;241m.\u001b[39mget_indexer(new_axis)\n\u001b[0;32m   4314\u001b[0m \u001b[38;5;66;03m# Case for non-unique axis\u001b[39;00m\n\u001b[0;32m   4315\u001b[0m \u001b[38;5;28;01melse\u001b[39;00m:\n",
      "File \u001b[1;32m~\\anaconda3\\envs\\main\\lib\\site-packages\\pandas\\core\\indexes\\base.py:6644\u001b[0m, in \u001b[0;36mIndex.drop\u001b[1;34m(self, labels, errors)\u001b[0m\n\u001b[0;32m   6642\u001b[0m \u001b[38;5;28;01mif\u001b[39;00m mask\u001b[38;5;241m.\u001b[39many():\n\u001b[0;32m   6643\u001b[0m     \u001b[38;5;28;01mif\u001b[39;00m errors \u001b[38;5;241m!=\u001b[39m \u001b[38;5;124m\"\u001b[39m\u001b[38;5;124mignore\u001b[39m\u001b[38;5;124m\"\u001b[39m:\n\u001b[1;32m-> 6644\u001b[0m         \u001b[38;5;28;01mraise\u001b[39;00m \u001b[38;5;167;01mKeyError\u001b[39;00m(\u001b[38;5;124mf\u001b[39m\u001b[38;5;124m\"\u001b[39m\u001b[38;5;132;01m{\u001b[39;00m\u001b[38;5;28mlist\u001b[39m(labels[mask])\u001b[38;5;132;01m}\u001b[39;00m\u001b[38;5;124m not found in axis\u001b[39m\u001b[38;5;124m\"\u001b[39m)\n\u001b[0;32m   6645\u001b[0m     indexer \u001b[38;5;241m=\u001b[39m indexer[\u001b[38;5;241m~\u001b[39mmask]\n\u001b[0;32m   6646\u001b[0m \u001b[38;5;28;01mreturn\u001b[39;00m \u001b[38;5;28mself\u001b[39m\u001b[38;5;241m.\u001b[39mdelete(indexer)\n",
      "\u001b[1;31mKeyError\u001b[0m: \"['in_reply_to_user_id'] not found in axis\""
     ]
    }
   ],
   "source": [
    "df1_clean.drop(['in_reply_to_user_id'], axis=1, inplace=True)"
   ]
  },
  {
   "cell_type": "markdown",
   "id": "dc7f1cc8",
   "metadata": {},
   "source": [
    "### test"
   ]
  },
  {
   "cell_type": "code",
   "execution_count": 61,
   "id": "ed12d836",
   "metadata": {},
   "outputs": [],
   "source": [
    "# checking if column in_reply_to_user_id have been dropped"
   ]
  },
  {
   "cell_type": "code",
   "execution_count": 71,
   "id": "dc3a5bfb",
   "metadata": {},
   "outputs": [
    {
     "data": {
      "text/plain": [
       "Index(['tweet_id', 'timestamp', 'source', 'text', 'expanded_urls',\n",
       "       'rating_numerator', 'rating_denominator', 'name', 'dog_stages',\n",
       "       'dog_stages_name'],\n",
       "      dtype='object')"
      ]
     },
     "execution_count": 71,
     "metadata": {},
     "output_type": "execute_result"
    }
   ],
   "source": [
    "df1_clean.columns"
   ]
  },
  {
   "cell_type": "markdown",
   "id": "b7c50b04",
   "metadata": {},
   "source": [
    "## quality issue #5"
   ]
  },
  {
   "cell_type": "markdown",
   "id": "957fd573",
   "metadata": {},
   "source": [
    "### Define"
   ]
  },
  {
   "cell_type": "markdown",
   "id": "a02abef6",
   "metadata": {},
   "source": [
    "replacing rows in dog_stages that have value 'in_reply_to_user_id '  or 'retweeted_status_user_id' with empty string"
   ]
  },
  {
   "cell_type": "code",
   "execution_count": 75,
   "id": "65af513f",
   "metadata": {},
   "outputs": [],
   "source": [
    "# checking content different dog stages"
   ]
  },
  {
   "cell_type": "code",
   "execution_count": 72,
   "id": "bc294575",
   "metadata": {},
   "outputs": [
    {
     "data": {
      "text/plain": [
       "in_reply_to_user_id         2356\n",
       "retweeted_status_user_id    2356\n",
       "doggo                       2356\n",
       "floofer                     2356\n",
       "pupper                      2356\n",
       "puppo                       2356\n",
       "Name: dog_stages, dtype: int64"
      ]
     },
     "execution_count": 72,
     "metadata": {},
     "output_type": "execute_result"
    }
   ],
   "source": [
    "df1_clean.dog_stages.value_counts()"
   ]
  },
  {
   "cell_type": "code",
   "execution_count": null,
   "id": "720bb9be",
   "metadata": {},
   "outputs": [],
   "source": []
  },
  {
   "cell_type": "markdown",
   "id": "b39e2ba5",
   "metadata": {},
   "source": [
    "### code"
   ]
  },
  {
   "cell_type": "code",
   "execution_count": 76,
   "id": "552529fe",
   "metadata": {},
   "outputs": [],
   "source": [
    "# replacing the content different dog stages that have 'in_reply_to_user_id'and'retweeted_status_user_id'to ''"
   ]
  },
  {
   "cell_type": "code",
   "execution_count": 99,
   "id": "84412815",
   "metadata": {},
   "outputs": [],
   "source": [
    "df1_clean.dog_stages.replace('in_reply_to_user_id', '', inplace=True)"
   ]
  },
  {
   "cell_type": "code",
   "execution_count": 101,
   "id": "baebbe16",
   "metadata": {},
   "outputs": [],
   "source": [
    "df1_clean.dog_stages.replace('retweeted_status_user_id', '', inplace=True)"
   ]
  },
  {
   "cell_type": "code",
   "execution_count": null,
   "id": "c979b77f",
   "metadata": {},
   "outputs": [],
   "source": []
  },
  {
   "cell_type": "markdown",
   "id": "3feefab9",
   "metadata": {},
   "source": [
    "### test"
   ]
  },
  {
   "cell_type": "code",
   "execution_count": 77,
   "id": "5b0b64f3",
   "metadata": {},
   "outputs": [],
   "source": [
    "# checking content different dog stages if changes have been effected"
   ]
  },
  {
   "cell_type": "code",
   "execution_count": 103,
   "id": "6dc43391",
   "metadata": {},
   "outputs": [
    {
     "data": {
      "text/plain": [
       "           4104\n",
       "doggo      2052\n",
       "floofer    2052\n",
       "pupper     2052\n",
       "puppo      2052\n",
       "Name: dog_stages, dtype: int64"
      ]
     },
     "execution_count": 103,
     "metadata": {},
     "output_type": "execute_result"
    }
   ],
   "source": [
    "df1_clean.dog_stages.value_counts()"
   ]
  },
  {
   "cell_type": "code",
   "execution_count": null,
   "id": "0ec9a6cb",
   "metadata": {},
   "outputs": [],
   "source": []
  },
  {
   "cell_type": "code",
   "execution_count": null,
   "id": "4833dc4c",
   "metadata": {},
   "outputs": [],
   "source": []
  },
  {
   "cell_type": "markdown",
   "id": "94f5cd66",
   "metadata": {},
   "source": [
    "## Tidiness issue #2"
   ]
  },
  {
   "cell_type": "markdown",
   "id": "9eb83a2a",
   "metadata": {},
   "source": [
    "### Define"
   ]
  },
  {
   "cell_type": "markdown",
   "id": "e2de2649",
   "metadata": {},
   "source": [
    "Merging Twitter archive data(df1_clean), Image Predictions(df_2_clean), and Tweet data (df_3_clean)"
   ]
  },
  {
   "cell_type": "markdown",
   "id": "04431360",
   "metadata": {},
   "source": [
    "### code"
   ]
  },
  {
   "cell_type": "code",
   "execution_count": 113,
   "id": "1aca0fd1",
   "metadata": {},
   "outputs": [
    {
     "data": {
      "text/plain": [
       "(14136, 10)"
      ]
     },
     "execution_count": 113,
     "metadata": {},
     "output_type": "execute_result"
    }
   ],
   "source": [
    "df1_clean.shape"
   ]
  },
  {
   "cell_type": "code",
   "execution_count": 79,
   "id": "e7b9616b",
   "metadata": {},
   "outputs": [
    {
     "data": {
      "text/plain": [
       "(2075, 12)"
      ]
     },
     "execution_count": 79,
     "metadata": {},
     "output_type": "execute_result"
    }
   ],
   "source": [
    "df_2_clean.shape"
   ]
  },
  {
   "cell_type": "code",
   "execution_count": 80,
   "id": "280a005f",
   "metadata": {},
   "outputs": [
    {
     "data": {
      "text/plain": [
       "(2324, 3)"
      ]
     },
     "execution_count": 80,
     "metadata": {},
     "output_type": "execute_result"
    }
   ],
   "source": [
    "df_3_clean.shape"
   ]
  },
  {
   "cell_type": "code",
   "execution_count": 114,
   "id": "e29310aa",
   "metadata": {},
   "outputs": [],
   "source": [
    "# merge inner to get only tweets that appear in both dataframe\n",
    "df_merged =df_2_clean.merge(df_3_clean, how='inner', on='tweet_id')"
   ]
  },
  {
   "cell_type": "code",
   "execution_count": 115,
   "id": "95218e16",
   "metadata": {},
   "outputs": [],
   "source": [
    "df_merged2 =df_merged.merge(df1_clean, how='inner', on='tweet_id')"
   ]
  },
  {
   "cell_type": "code",
   "execution_count": 116,
   "id": "8a2c4988",
   "metadata": {},
   "outputs": [
    {
     "data": {
      "text/plain": [
       "(12330, 23)"
      ]
     },
     "execution_count": 116,
     "metadata": {},
     "output_type": "execute_result"
    }
   ],
   "source": [
    "df_merged2.shape"
   ]
  },
  {
   "cell_type": "markdown",
   "id": "dbc18f34",
   "metadata": {},
   "source": [
    "### test"
   ]
  },
  {
   "cell_type": "code",
   "execution_count": 117,
   "id": "97ba1533",
   "metadata": {},
   "outputs": [
    {
     "data": {
      "text/html": [
       "<div>\n",
       "<style scoped>\n",
       "    .dataframe tbody tr th:only-of-type {\n",
       "        vertical-align: middle;\n",
       "    }\n",
       "\n",
       "    .dataframe tbody tr th {\n",
       "        vertical-align: top;\n",
       "    }\n",
       "\n",
       "    .dataframe thead th {\n",
       "        text-align: right;\n",
       "    }\n",
       "</style>\n",
       "<table border=\"1\" class=\"dataframe\">\n",
       "  <thead>\n",
       "    <tr style=\"text-align: right;\">\n",
       "      <th></th>\n",
       "      <th>tweet_id</th>\n",
       "      <th>jpg_url</th>\n",
       "      <th>img_num</th>\n",
       "      <th>p1</th>\n",
       "      <th>p1_conf</th>\n",
       "      <th>p1_dog</th>\n",
       "      <th>p2</th>\n",
       "      <th>p2_conf</th>\n",
       "      <th>p2_dog</th>\n",
       "      <th>p3</th>\n",
       "      <th>...</th>\n",
       "      <th>favorite_count</th>\n",
       "      <th>timestamp</th>\n",
       "      <th>source</th>\n",
       "      <th>text</th>\n",
       "      <th>expanded_urls</th>\n",
       "      <th>rating_numerator</th>\n",
       "      <th>rating_denominator</th>\n",
       "      <th>name</th>\n",
       "      <th>dog_stages</th>\n",
       "      <th>dog_stages_name</th>\n",
       "    </tr>\n",
       "  </thead>\n",
       "  <tbody>\n",
       "    <tr>\n",
       "      <th>2990</th>\n",
       "      <td>675820929667219457</td>\n",
       "      <td>https://pbs.twimg.com/media/CWD_jQMWEAAdYwH.jpg</td>\n",
       "      <td>1</td>\n",
       "      <td>basset</td>\n",
       "      <td>0.556373</td>\n",
       "      <td>True</td>\n",
       "      <td>beagle</td>\n",
       "      <td>0.201675</td>\n",
       "      <td>True</td>\n",
       "      <td>bloodhound</td>\n",
       "      <td>...</td>\n",
       "      <td>955</td>\n",
       "      <td>2015-12-12 23:34:00 +0000</td>\n",
       "      <td>Twitter for iPhone</td>\n",
       "      <td>Here's a handful of sleepy puppers. All look u...</td>\n",
       "      <td>https://twitter.com/dog_rates/status/675820929...</td>\n",
       "      <td>11</td>\n",
       "      <td>10</td>\n",
       "      <td>None</td>\n",
       "      <td>doggo</td>\n",
       "      <td>None</td>\n",
       "    </tr>\n",
       "    <tr>\n",
       "      <th>6305</th>\n",
       "      <td>714141408463036416</td>\n",
       "      <td>https://pbs.twimg.com/media/Cekj0qwXEAAHcS6.jpg</td>\n",
       "      <td>1</td>\n",
       "      <td>Labrador_retriever</td>\n",
       "      <td>0.586951</td>\n",
       "      <td>True</td>\n",
       "      <td>golden_retriever</td>\n",
       "      <td>0.378812</td>\n",
       "      <td>True</td>\n",
       "      <td>redbone</td>\n",
       "      <td>...</td>\n",
       "      <td>4011</td>\n",
       "      <td>2016-03-27 17:25:54 +0000</td>\n",
       "      <td>Twitter for iPhone</td>\n",
       "      <td>I know we only rate dogs, but since it's Easte...</td>\n",
       "      <td>https://twitter.com/dog_rates/status/714141408...</td>\n",
       "      <td>10</td>\n",
       "      <td>10</td>\n",
       "      <td>None</td>\n",
       "      <td>puppo</td>\n",
       "      <td>None</td>\n",
       "    </tr>\n",
       "  </tbody>\n",
       "</table>\n",
       "<p>2 rows × 23 columns</p>\n",
       "</div>"
      ],
      "text/plain": [
       "                tweet_id                                          jpg_url  \\\n",
       "2990  675820929667219457  https://pbs.twimg.com/media/CWD_jQMWEAAdYwH.jpg   \n",
       "6305  714141408463036416  https://pbs.twimg.com/media/Cekj0qwXEAAHcS6.jpg   \n",
       "\n",
       "      img_num                  p1   p1_conf  p1_dog                p2  \\\n",
       "2990        1              basset  0.556373    True            beagle   \n",
       "6305        1  Labrador_retriever  0.586951    True  golden_retriever   \n",
       "\n",
       "       p2_conf  p2_dog          p3  ...  favorite_count  \\\n",
       "2990  0.201675    True  bloodhound  ...             955   \n",
       "6305  0.378812    True     redbone  ...            4011   \n",
       "\n",
       "                      timestamp              source  \\\n",
       "2990  2015-12-12 23:34:00 +0000  Twitter for iPhone   \n",
       "6305  2016-03-27 17:25:54 +0000  Twitter for iPhone   \n",
       "\n",
       "                                                   text  \\\n",
       "2990  Here's a handful of sleepy puppers. All look u...   \n",
       "6305  I know we only rate dogs, but since it's Easte...   \n",
       "\n",
       "                                          expanded_urls rating_numerator  \\\n",
       "2990  https://twitter.com/dog_rates/status/675820929...               11   \n",
       "6305  https://twitter.com/dog_rates/status/714141408...               10   \n",
       "\n",
       "     rating_denominator  name  dog_stages  dog_stages_name  \n",
       "2990                 10  None       doggo             None  \n",
       "6305                 10  None       puppo             None  \n",
       "\n",
       "[2 rows x 23 columns]"
      ]
     },
     "execution_count": 117,
     "metadata": {},
     "output_type": "execute_result"
    }
   ],
   "source": [
    "df_merged2.sample(2)"
   ]
  },
  {
   "cell_type": "code",
   "execution_count": 85,
   "id": "41c05dbf",
   "metadata": {},
   "outputs": [
    {
     "name": "stdout",
     "output_type": "stream",
     "text": [
      "<class 'pandas.core.frame.DataFrame'>\n",
      "Int64Index: 12330 entries, 0 to 12329\n",
      "Data columns (total 23 columns):\n",
      " #   Column              Non-Null Count  Dtype  \n",
      "---  ------              --------------  -----  \n",
      " 0   tweet_id            12330 non-null  int64  \n",
      " 1   jpg_url             12330 non-null  object \n",
      " 2   img_num             12330 non-null  int64  \n",
      " 3   p1                  12330 non-null  object \n",
      " 4   p1_conf             12330 non-null  float64\n",
      " 5   p1_dog              12330 non-null  bool   \n",
      " 6   p2                  12330 non-null  object \n",
      " 7   p2_conf             12330 non-null  float64\n",
      " 8   p2_dog              12330 non-null  bool   \n",
      " 9   p3                  12330 non-null  object \n",
      " 10  p3_conf             12330 non-null  float64\n",
      " 11  p3_dog              12330 non-null  bool   \n",
      " 12  retweet_count       12330 non-null  int64  \n",
      " 13  favorite_count      12330 non-null  int64  \n",
      " 14  timestamp           12330 non-null  object \n",
      " 15  source              12330 non-null  object \n",
      " 16  text                12330 non-null  object \n",
      " 17  expanded_urls       12330 non-null  object \n",
      " 18  rating_numerator    12330 non-null  int64  \n",
      " 19  rating_denominator  12330 non-null  int64  \n",
      " 20  name                12330 non-null  object \n",
      " 21  dog_stages          12330 non-null  object \n",
      " 22  dog_stages_name     8314 non-null   object \n",
      "dtypes: bool(3), float64(3), int64(6), object(11)\n",
      "memory usage: 2.0+ MB\n"
     ]
    }
   ],
   "source": [
    "df_merged2.info()"
   ]
  },
  {
   "cell_type": "code",
   "execution_count": 53,
   "id": "4d5cd393",
   "metadata": {},
   "outputs": [],
   "source": [
    "# checking for duplicates"
   ]
  },
  {
   "cell_type": "code",
   "execution_count": 115,
   "id": "2963fc0e",
   "metadata": {},
   "outputs": [
    {
     "data": {
      "text/plain": [
       "1849"
      ]
     },
     "execution_count": 115,
     "metadata": {},
     "output_type": "execute_result"
    }
   ],
   "source": [
    "sum(df_merged2.duplicated())"
   ]
  },
  {
   "cell_type": "code",
   "execution_count": 55,
   "id": "a970aad6",
   "metadata": {},
   "outputs": [],
   "source": [
    "# dropping duplicates in df_merge2"
   ]
  },
  {
   "cell_type": "code",
   "execution_count": 116,
   "id": "f9b5641b",
   "metadata": {},
   "outputs": [],
   "source": [
    "df_merged2.drop_duplicates(inplace=True)"
   ]
  },
  {
   "cell_type": "code",
   "execution_count": null,
   "id": "8b4fd3db",
   "metadata": {},
   "outputs": [],
   "source": []
  },
  {
   "cell_type": "code",
   "execution_count": 56,
   "id": "b9e28b00",
   "metadata": {},
   "outputs": [],
   "source": [
    "# checking if we still have duplicates"
   ]
  },
  {
   "cell_type": "code",
   "execution_count": 118,
   "id": "345755a0",
   "metadata": {},
   "outputs": [
    {
     "data": {
      "text/plain": [
       "0"
      ]
     },
     "execution_count": 118,
     "metadata": {},
     "output_type": "execute_result"
    }
   ],
   "source": [
    "sum(df_merged2.duplicated())"
   ]
  },
  {
   "cell_type": "code",
   "execution_count": 120,
   "id": "2cd2fb47",
   "metadata": {},
   "outputs": [
    {
     "data": {
      "text/plain": [
       "(9377, 23)"
      ]
     },
     "execution_count": 120,
     "metadata": {},
     "output_type": "execute_result"
    }
   ],
   "source": [
    "df_merged2.shape"
   ]
  },
  {
   "cell_type": "code",
   "execution_count": null,
   "id": "77259d07",
   "metadata": {},
   "outputs": [],
   "source": []
  },
  {
   "cell_type": "code",
   "execution_count": 50,
   "id": "bccca9dd",
   "metadata": {},
   "outputs": [],
   "source": [
    "# checking for rows with missing values and dropping them"
   ]
  },
  {
   "cell_type": "code",
   "execution_count": 122,
   "id": "e347f99a",
   "metadata": {},
   "outputs": [
    {
     "data": {
      "text/plain": [
       "1871"
      ]
     },
     "execution_count": 122,
     "metadata": {},
     "output_type": "execute_result"
    }
   ],
   "source": [
    "df_merged2.isna().any(axis=1).sum()"
   ]
  },
  {
   "cell_type": "code",
   "execution_count": 51,
   "id": "93c853bf",
   "metadata": {},
   "outputs": [],
   "source": [
    "# dropping rows with missing values and dropping them"
   ]
  },
  {
   "cell_type": "code",
   "execution_count": 123,
   "id": "9ee4e9e2",
   "metadata": {},
   "outputs": [],
   "source": [
    "df_merged2.dropna(inplace=True)"
   ]
  },
  {
   "cell_type": "code",
   "execution_count": 52,
   "id": "6bc05cc0",
   "metadata": {},
   "outputs": [],
   "source": [
    "#checking if we still have rows with missing values "
   ]
  },
  {
   "cell_type": "code",
   "execution_count": 124,
   "id": "3610df3d",
   "metadata": {},
   "outputs": [
    {
     "data": {
      "text/plain": [
       "False"
      ]
     },
     "execution_count": 124,
     "metadata": {},
     "output_type": "execute_result"
    }
   ],
   "source": [
    "df_merged2.isnull().sum().any()"
   ]
  },
  {
   "cell_type": "code",
   "execution_count": 125,
   "id": "77262bf9",
   "metadata": {},
   "outputs": [
    {
     "data": {
      "text/plain": [
       "(7506, 23)"
      ]
     },
     "execution_count": 125,
     "metadata": {},
     "output_type": "execute_result"
    }
   ],
   "source": [
    "df_merged2.shape"
   ]
  },
  {
   "cell_type": "markdown",
   "id": "7b7438ea",
   "metadata": {},
   "source": [
    "## quality issue #6"
   ]
  },
  {
   "cell_type": "markdown",
   "id": "dd53315d",
   "metadata": {},
   "source": [
    "### Define"
   ]
  },
  {
   "cell_type": "markdown",
   "id": "9b537f40",
   "metadata": {},
   "source": [
    "Convert timestamp to datetime"
   ]
  },
  {
   "cell_type": "markdown",
   "id": "29f9d04f",
   "metadata": {},
   "source": [
    "### code"
   ]
  },
  {
   "cell_type": "code",
   "execution_count": null,
   "id": "d50ade55",
   "metadata": {},
   "outputs": [],
   "source": [
    "# ascessing the df_merge dataframe.. the timestamp is currently an object"
   ]
  },
  {
   "cell_type": "code",
   "execution_count": 126,
   "id": "2cb66113",
   "metadata": {},
   "outputs": [
    {
     "name": "stdout",
     "output_type": "stream",
     "text": [
      "<class 'pandas.core.frame.DataFrame'>\n",
      "Int64Index: 7506 entries, 2 to 11225\n",
      "Data columns (total 23 columns):\n",
      " #   Column              Non-Null Count  Dtype  \n",
      "---  ------              --------------  -----  \n",
      " 0   tweet_id            7506 non-null   int64  \n",
      " 1   jpg_url             7506 non-null   object \n",
      " 2   img_num             7506 non-null   int64  \n",
      " 3   p1                  7506 non-null   object \n",
      " 4   p1_conf             7506 non-null   float64\n",
      " 5   p1_dog              7506 non-null   bool   \n",
      " 6   p2                  7506 non-null   object \n",
      " 7   p2_conf             7506 non-null   float64\n",
      " 8   p2_dog              7506 non-null   bool   \n",
      " 9   p3                  7506 non-null   object \n",
      " 10  p3_conf             7506 non-null   float64\n",
      " 11  p3_dog              7506 non-null   bool   \n",
      " 12  retweet_count       7506 non-null   int64  \n",
      " 13  favorite_count      7506 non-null   int64  \n",
      " 14  timestamp           7506 non-null   object \n",
      " 15  source              7506 non-null   object \n",
      " 16  text                7506 non-null   object \n",
      " 17  expanded_urls       7506 non-null   object \n",
      " 18  rating_numerator    7506 non-null   int64  \n",
      " 19  rating_denominator  7506 non-null   int64  \n",
      " 20  name                7506 non-null   object \n",
      " 21  dog_stages          7506 non-null   object \n",
      " 22  dog_stages_name     7506 non-null   object \n",
      "dtypes: bool(3), float64(3), int64(6), object(11)\n",
      "memory usage: 1.2+ MB\n"
     ]
    }
   ],
   "source": [
    "df_merged2.info()"
   ]
  },
  {
   "cell_type": "code",
   "execution_count": 86,
   "id": "fef86087",
   "metadata": {},
   "outputs": [],
   "source": [
    "# converting the timestamp to timestamp format"
   ]
  },
  {
   "cell_type": "code",
   "execution_count": 127,
   "id": "60c4da03",
   "metadata": {},
   "outputs": [],
   "source": [
    "df_merged2.timestamp = pd.to_datetime(df_merged2.timestamp)"
   ]
  },
  {
   "cell_type": "markdown",
   "id": "ab6f5905",
   "metadata": {},
   "source": [
    "### test"
   ]
  },
  {
   "cell_type": "code",
   "execution_count": 87,
   "id": "6d2b0c30",
   "metadata": {},
   "outputs": [],
   "source": [
    "# checking if convertion was done correctly"
   ]
  },
  {
   "cell_type": "code",
   "execution_count": 128,
   "id": "a3e6510a",
   "metadata": {},
   "outputs": [
    {
     "name": "stdout",
     "output_type": "stream",
     "text": [
      "<class 'pandas.core.frame.DataFrame'>\n",
      "Int64Index: 7506 entries, 2 to 11225\n",
      "Data columns (total 23 columns):\n",
      " #   Column              Non-Null Count  Dtype              \n",
      "---  ------              --------------  -----              \n",
      " 0   tweet_id            7506 non-null   int64              \n",
      " 1   jpg_url             7506 non-null   object             \n",
      " 2   img_num             7506 non-null   int64              \n",
      " 3   p1                  7506 non-null   object             \n",
      " 4   p1_conf             7506 non-null   float64            \n",
      " 5   p1_dog              7506 non-null   bool               \n",
      " 6   p2                  7506 non-null   object             \n",
      " 7   p2_conf             7506 non-null   float64            \n",
      " 8   p2_dog              7506 non-null   bool               \n",
      " 9   p3                  7506 non-null   object             \n",
      " 10  p3_conf             7506 non-null   float64            \n",
      " 11  p3_dog              7506 non-null   bool               \n",
      " 12  retweet_count       7506 non-null   int64              \n",
      " 13  favorite_count      7506 non-null   int64              \n",
      " 14  timestamp           7506 non-null   datetime64[ns, UTC]\n",
      " 15  source              7506 non-null   object             \n",
      " 16  text                7506 non-null   object             \n",
      " 17  expanded_urls       7506 non-null   object             \n",
      " 18  rating_numerator    7506 non-null   int64              \n",
      " 19  rating_denominator  7506 non-null   int64              \n",
      " 20  name                7506 non-null   object             \n",
      " 21  dog_stages          7506 non-null   object             \n",
      " 22  dog_stages_name     7506 non-null   object             \n",
      "dtypes: bool(3), datetime64[ns, UTC](1), float64(3), int64(6), object(10)\n",
      "memory usage: 1.2+ MB\n"
     ]
    }
   ],
   "source": [
    "df_merged2.info()"
   ]
  },
  {
   "cell_type": "code",
   "execution_count": null,
   "id": "b94c306c",
   "metadata": {},
   "outputs": [],
   "source": []
  },
  {
   "cell_type": "code",
   "execution_count": 88,
   "id": "c98b6e33",
   "metadata": {},
   "outputs": [
    {
     "data": {
      "text/plain": [
       "None      3420\n",
       "a          330\n",
       "Cooper      60\n",
       "Oliver      60\n",
       "Tucker      60\n",
       "          ... \n",
       "Ricky        6\n",
       "Fynn         6\n",
       "Durg         6\n",
       "Covach       6\n",
       "Tilly        6\n",
       "Name: name, Length: 934, dtype: int64"
      ]
     },
     "execution_count": 88,
     "metadata": {},
     "output_type": "execute_result"
    }
   ],
   "source": [
    "df_merged2.name.value_counts()"
   ]
  },
  {
   "cell_type": "markdown",
   "id": "ca168bf5",
   "metadata": {},
   "source": [
    "## quality issue #7¶"
   ]
  },
  {
   "cell_type": "markdown",
   "id": "e7955f50",
   "metadata": {},
   "source": [
    "### Define"
   ]
  },
  {
   "cell_type": "markdown",
   "id": "390e66ca",
   "metadata": {},
   "source": [
    "The Name column  in df_merge2 has inaccurate dog names and I have been able to list them out and would change them accordingly"
   ]
  },
  {
   "cell_type": "markdown",
   "id": "ecedee4a",
   "metadata": {},
   "source": [
    "### code"
   ]
  },
  {
   "cell_type": "code",
   "execution_count": 89,
   "id": "8f22d20d",
   "metadata": {},
   "outputs": [
    {
     "data": {
      "text/plain": [
       "array(['None', 'a', 'an', 'the', 'quite', 'Walter', 'Scout', 'Kreggory',\n",
       "       'Jimothy', 'Christoper', 'Lugan', 'Josep', 'Jockson', 'Jeph',\n",
       "       'Carll', 'Klevin', 'Keet', 'Dave', 'Clybe', 'Gabe', 'Pipsy',\n",
       "       'Bradlay', 'Churlie', 'Kenneth', 'Clarence', 'Timison', 'Joshwa',\n",
       "       'Genevieve', 'Fwed', 'Biden', 'Cupcake', 'Reese', 'Philippe',\n",
       "       'Hall', 'Dook', 'Naphaniel', 'Frank', 'Kial', 'George', 'Olive',\n",
       "       'Calvin', 'Filup', 'Shaggy', 'Tedrick', 'Stu', 'Erik',\n",
       "       'Cleopatricia', 'Otis', 'Jiminy', 'Alfie', 'Skittles', 'Ron',\n",
       "       'Torque', 'Bisquick', 'Jareld', 'Sophie', 'Rusty', 'DayZ', 'Jo',\n",
       "       'Gòrdón', 'Spark', 'Marvin', 'Kallie', 'Jomathan', 'Maks',\n",
       "       'Timofy', 'Zeek', 'Hanz', 'Winifred', 'Kevon', 'Banditt', 'Bobb',\n",
       "       'Amélie', 'Ruffles', 'Lambeau', 'Herald', 'Jaycob', 'Jeremy',\n",
       "       'Chaz', 'Ruby', 'Bernie', 'Harrison', 'Terrance', 'Tucker',\n",
       "       'Samsom', 'Jaspers', 'Clarq', 'Ralf', 'Kirk', 'Sully', 'Tessa',\n",
       "       'Dug', 'Saydee', 'Chip', 'Oliviér', 'Billl', 'Ronduh', 'Kollin',\n",
       "       'Keith', 'Linda', 'Skye', 'Penny', 'Shawwn', 'Louie', 'Kloey',\n",
       "       'Chester', 'Andru', 'Julio', 'Zoey', 'Raphael', 'Ben', 'Tommy',\n",
       "       'Liam', 'Randall', 'Winston', 'Fabio', 'Wally', 'Sandra',\n",
       "       'Butters', 'Daisy', 'Larry', 'Nigel', 'Peanut', 'Scooter', 'Damon',\n",
       "       'Herb', 'Willy', 'Sam', 'Hank', 'Koda', 'Paull', 'Edd', 'Phineas',\n",
       "       'Bloo', 'Pluto', 'Ester', 'Danny', 'Jeffrie', 'Jerry', 'Gin',\n",
       "       'Vincent', 'Traviss', 'Creg', 'Antony', 'Trigger', 'Mason', 'Andy',\n",
       "       'Maggie', 'Sage', 'Remington', 'Amy', 'Jett', 'Colby', 'Toby',\n",
       "       'Phred', 'Holly', 'Anthony', 'Herm', 'Sparky', 'Lola', 'Lou',\n",
       "       'Tanner', 'Penelope', 'Malcolm', 'Julius', 'Pip', 'Charlie',\n",
       "       'Hammond', 'Scruffers', 'Alejandro', 'Jax', 'Reginald', 'Baxter',\n",
       "       'JD', 'Marley', 'Oscar', 'Mark', 'space', 'Dylan', 'Mia', 'Brad',\n",
       "       'Batdog', 'Mojo', 'Gizmo', 'Patch', 'Tuco', 'just', 'Bubba',\n",
       "       'Bradley', 'Opal', 'Cal', 'Ridley', 'Snickers', 'Rolf', 'Kreg',\n",
       "       'Pippin', 'Franq', 'Buddy', 'Jazz', 'light', 'Jackie', 'Darby',\n",
       "       'Taz', 'Scott', 'Caryl', 'Norman', 'Leonidas', 'Ed', 'Cheryl',\n",
       "       'Jimison', 'Terry', 'Gustaf', 'Chet', 'Chuckles', 'Schnozz',\n",
       "       'Pumpkin', 'Kenzie', 'Fletcher', 'Dexter', 'Mac', 'Eve', 'Frankie',\n",
       "       'Django', 'Gerald', 'Bella', 'Steve', 'Sandy', 'Jeffri', 'Albert',\n",
       "       'Kendall', 'Shnuggles', 'Pickles', 'Dot', 'Raymond', 'Riley',\n",
       "       'Obie', 'one', 'Aiden', 'Acro', 'Kaiya', 'Lucy', 'Stanley', 'Earl',\n",
       "       'Mitch', 'Bobbay', 'Gus', 'Henry', 'Bob', 'Kenny', 'Lennon',\n",
       "       'Chesney', 'Gary', 'Lenny', 'Jonah', 'Ava', 'Bailey', 'Louis',\n",
       "       'Rodman', 'Jeb', 'Patrick', 'Rufio', 'Superpup', 'Tedders',\n",
       "       'Laela', 'Mollie', 'Moe', 'Oliver', 'Zuzu', 'Steven', 'Coops',\n",
       "       'Arnold', 'Reggie', 'Sammy', 'Ellie', 'Buddah', 'Pepper', 'Donny',\n",
       "       'Striker', 'Bert', 'Duke', 'Griffin', 'Vinnie', 'Bubbles',\n",
       "       'Godzilla', 'Ash', 'Karl', 'Tyrus', 'Cooper', 'Chuq', 'Juckson',\n",
       "       'Tassy', 'Derek', 'Humphrey', 'Axel', 'Sadie', 'Ralph', 'Jessifer',\n",
       "       'Rosie', 'Crumpet', 'Jerome', 'Crystal', 'Grizz', 'Tango', 'Dash',\n",
       "       'Wilson', 'Tug', 'Chompsky', 'officially', 'Rubio', 'Hurley',\n",
       "       'Evy', 'Dwight', 'William', 'Mike', 'Hunter', 'Rinna', 'Willie',\n",
       "       'Bruce', 'Emmie', 'by', 'Ozzy', 'Kawhi', 'Goliath', 'CeCe',\n",
       "       'Hector', 'Percy', 'Brody', 'Moofasa', 'Cheesy', 'Griswold',\n",
       "       'Alice', 'Ozzie', 'Aspen', 'Champ', 'Panda', 'Sarge', 'actually',\n",
       "       'Chuck', 'Glacier', 'Asher', 'Carly', 'Apollo', 'Toffee', 'Bo',\n",
       "       'Ulysses', 'Tess', 'Samson', 'Todo', 'Joey', 'Taco', 'Darrel',\n",
       "       'Lulu', 'Brandy', 'Jack', 'Banjo', 'Sebastian', 'Tiger', 'Lupe',\n",
       "       'Kulet', 'Tino', 'Obi', 'Pippa', 'Bobby', 'Theodore', 'Perry',\n",
       "       'Bruiser', 'Oreo', 'Gerbald', 'Hubertson', 'Petrick', 'Rocky',\n",
       "       'Brooks', 'Marty', 'Lorelei', 'Birf', 'Crimson', 'Horace',\n",
       "       'Olivia', 'Mona', 'Jackson', 'Gordon', 'Tyrone', 'Kramer',\n",
       "       'Curtis', 'Marq', 'Blakely', 'Trooper', 'Kilo', 'Lizzie', 'Derby',\n",
       "       'Frönq', 'Pubert', 'Hamrick', 'Trip', 'Lucky', 'Chipson', 'Carl',\n",
       "       'Ricky', 'Luca', 'Fynn', 'Durg', 'Covach', 'Geoff', 'Maxwell',\n",
       "       'Eriq', 'Lolo', 'Hazel', 'Cedrick', 'Vinscent', 'Peaches', 'Molly',\n",
       "       'Leo', 'Richie', 'Brockly', 'Kingsley', 'Edgar', 'Herschel',\n",
       "       'Cody', 'Amber', 'Tupawc', 'Milo', 'Dunkin', 'Bodie', 'Lincoln',\n",
       "       'Phil', 'Freddery', 'Kobe', 'Grady', 'Archie', 'Brian', 'Lorenzo',\n",
       "       'Colin', 'Wyatt', 'Berb', 'Trevith', 'Reptar', 'Misty', 'Oakley',\n",
       "       'getting', 'Bentley', 'Blipson', 'Ole', 'Carter', 'Cassie', 'Doug',\n",
       "       'Lily', 'Beau', 'Franklin', 'Maximus', 'Jessiga', 'Claude',\n",
       "       'Cuddles', 'Reagan', 'Charl', 'Calbert', 'Miley', 'Fillup', 'Nala',\n",
       "       'Thumas', 'Eazy', 'Dotsy', 'Murphy', 'Kaia', 'very', 'Daniel',\n",
       "       'Crouton', 'Millie', 'Yoda', 'Coopson', 'Bilbo', 'Rilo', 'Fiji',\n",
       "       'Sansa', 'Rambo', 'Socks', 'Ralphson', 'Lucia', 'Chesterson',\n",
       "       'Terrenth', 'Bode', 'Ambrose', 'Zara', 'Max', 'Adele', 'Kara',\n",
       "       'Shadow', 'Katie', 'Elliot', 'Kathmandu', 'Finnegus', 'Clarkus',\n",
       "       'Keurig', 'Harper', 'Jiminus', 'Rufus', 'Farfle', 'Jebberson',\n",
       "       'River', 'Bobble', 'Bear', 'Smokey', 'Coco', 'Mister', 'Malikai',\n",
       "       'Rodney', 'Walker', 'Billy', 'Karma', 'Vince', 'Cecil', 'Olaf',\n",
       "       'Watson', 'Tater', 'Lacy', 'infuriating', 'Gunner', 'Beemo',\n",
       "       'Sora', 'Staniel', 'Roosevelt', 'Kane', 'Sunny', 'Stubert', 'Opie',\n",
       "       'Lance', 'Piper', 'Kanu', 'Travis', 'Benedict', 'Siba',\n",
       "       'Michelangelope', 'Nico', 'Bertson', 'Zeus', 'Stephanus',\n",
       "       'Bluebert', 'Jennifur', 'Link', 'Flávio', 'Ebby', 'Barclay',\n",
       "       'Suki', 'Alexanderson', 'Bowie', 'Carper', 'Sid', 'Harnold',\n",
       "       'Clyde', 'Neptune', 'Charleson', 'Ralphé', 'Berkeley', 'Schnitzel',\n",
       "       'Jangle', 'Ivar', 'Sugar', 'Luther', 'Ashleigh', 'Fred', 'Lillie',\n",
       "       'Bloop', 'Blitz', 'Sprout', 'Karll', 'Cilantro', 'Rueben', 'all',\n",
       "       'Enchilada', 'Wallace', 'Coleman', 'Flurpson', 'Puff', 'Pupcasso',\n",
       "       'Stefan', 'Ollie', 'Charles', 'Ziva', 'Rooney', 'unacceptable',\n",
       "       'this', 'Solomon', 'Kyle', 'Aldrick', 'Ralpher', 'Hermione',\n",
       "       'Moose', 'Livvie', 'Buckley', 'Kellogg', 'Dakota', 'Maxaroni',\n",
       "       'Rory', 'Chadrick', 'Remy', 'Storkson', 'Bayley', 'Benji', 'Simba',\n",
       "       'Rorie', 'Nollie', 'Chase', 'Baloo', 'Aqua', 'Edmund', 'Bell',\n",
       "       'Kayla', 'Beya', 'Harold', 'Stark', 'Geno', 'Blanket', 'Harvey',\n",
       "       'Indie', 'Abby', 'Lenox', 'Arlen', 'Gustav', 'Shiloh', 'Clark',\n",
       "       'Atticus', 'Bookstore', 'Huxley', 'Cora', 'his', 'Tripp', 'Divine',\n",
       "       'not', 'Dietrich', 'Blu', 'Finn', 'Jameson', 'Spanky', 'Lilah',\n",
       "       'Stewie', 'Zoe', 'Arnie', 'Meyer', 'Gilbert', 'Grizzie', 'Tayzie',\n",
       "       'Ace', 'Dex', 'Winnie', 'Gert', 'Devón', 'Beckham', 'Leonard',\n",
       "       'Corey', 'Odie', 'Brandonald', 'Boston', 'Lilli', 'Spencer',\n",
       "       'Luna', 'Emma', 'Kirby', 'Fido', 'Rocco', 'Atlas', 'Theo', 'Rose',\n",
       "       'Wishes', 'Bonaparte', 'Sephie', 'Shelby', 'Glenn', 'Leela',\n",
       "       'Belle', 'Kota', 'Aubie', 'Gromit', 'my', 'Tove', 'Brat', 'Angel',\n",
       "       'Juno', 'Shadoe', 'Brudge', 'Rupert', 'Philbert', 'Tito', 'Chevy',\n",
       "       'Jesse', 'DonDon', 'Titan', 'Klein', 'Carbon', 'Al', 'Dixie',\n",
       "       'Fizz', 'Davey', 'Willem', 'Grey', 'Bungalo', 'Chelsea',\n",
       "       'Shakespeare', 'Loki', 'Heinrich', 'Sprinkles', 'Finley', 'Anakin',\n",
       "       'Blue', 'Sampson', 'O', 'Huck', 'Jeffrey', 'Wesley', 'Strider',\n",
       "       'Mya', 'Jay', 'Hercules', 'Timmy', 'Deacon', 'Cali', 'Godi',\n",
       "       'Loomis', 'Mairi', 'Stormy', 'Hero', 'Doc', 'Dallas', 'Pinot',\n",
       "       'Mattie', 'Rizzo', 'Dale', 'Logan', 'Tonks', 'Butter', 'Stella',\n",
       "       'Rizzy', 'Brownie', 'Eli', 'Happy', 'Mosby', 'Betty', 'Mabel',\n",
       "       'Levi', 'Remus', 'BeBe', 'Monster', 'Robin', 'Nida', 'Newt',\n",
       "       'Maude', 'Moreton', 'Fiona', 'Dobby', 'Laika', 'Nimbus', 'Mack',\n",
       "       'Yogi', 'Snicku', 'Romeo', 'Tyr', 'Pancake', 'Iroh', 'Longfellow',\n",
       "       'Sobe', 'Chef', 'Mauve', 'Bones', 'Ronnie', 'Severus', 'Sonny',\n",
       "       'Diogi', 'Shooter', 'Zeke', 'Major', 'incredibly', 'Waffles',\n",
       "       'Stephan', 'Ito', 'Kyro', 'Pavlov', 'Craig', 'Augie', 'Halo',\n",
       "       'Ted', 'Mary', 'Brandi', 'Swagger', 'Bauer', 'Baron', 'Layla',\n",
       "       'Eleanor', 'Sky', 'Chubbs', 'Oshie', 'Alf', 'Akumi', 'Comet',\n",
       "       'Dudley', 'Binky', 'Timber', 'Chloe', 'Tebow', 'Strudel', 'Ken',\n",
       "       'Eugene', 'Dido', 'Autumn', 'Florence', 'Tom', 'Wafer', 'Anna',\n",
       "       'Jazzy', 'Howie', 'Flash', 'Sundance', 'Harlso', 'Duchess',\n",
       "       'Paisley', 'Hobbes', 'Albus', 'Crawford', 'Cash', 'Pablo', 'Sweet',\n",
       "       'Mo', 'Ike', 'Pilot', 'Pawnd', 'Cupid', 'Ralphie', 'Boots', 'Kona',\n",
       "       'Brutus', 'Sailer', 'Alexander', 'Beebop', 'Doobert', 'Mutt',\n",
       "       'Lilly', 'Pete', 'Dutch', 'Kuyu', 'Emanuel', 'Miguel', 'Smiley',\n",
       "       'Eevee', 'Orion', 'Willow', 'Rhino', 'Gidget', 'Poppy', 'Bronte',\n",
       "       'Lipton', 'Sunshine', 'Tobi', 'Meera', 'Mookie', 'Arlo',\n",
       "       'Sojourner', 'Monty', 'Maddie', 'Dawn', 'Tycho', 'Margo', 'Brady',\n",
       "       'Mimosa', 'Jarvis', 'Vixen', 'Barney', 'Tuck', 'Furzey', 'Cannon',\n",
       "       'Rontu', 'Georgie', 'Odin', 'Kevin', 'Noosh', 'Boomer', 'Snoop',\n",
       "       'Iggy', 'Sailor', 'General', 'Wiggles', 'Jarod', 'Benny',\n",
       "       'Rumpole', 'Einstein', 'Arya', 'Marlee', 'Cermet', 'Callie',\n",
       "       'Thor', 'Milky', 'Jordy', 'Burt', 'Jersey', 'Zooey', 'Quinn',\n",
       "       'Meatball', 'Nelly', 'Jamesy', 'Lili', 'Shikha', 'Dewey',\n",
       "       'Clifford', 'Rumble', 'Napolean', 'Rover', 'Lassie', 'Kody',\n",
       "       'Monkey', 'Sierra', 'Jed', 'Nugget', 'Goose', 'Venti', 'Ginger',\n",
       "       'Dante', 'Aja', 'Emmy', 'Snoopy', 'Duddles', 'Rey', 'Koko', 'Alfy',\n",
       "       'Grizzwald', 'Noah', 'Maisey', 'Jimbo', 'Roscoe', 'Mingus', 'Maya',\n",
       "       'Canela', 'such', 'Ralphus', 'Jim', 'Stuart', 'Bruno', 'Darla',\n",
       "       'Tilly'], dtype=object)"
      ]
     },
     "execution_count": 89,
     "metadata": {},
     "output_type": "execute_result"
    }
   ],
   "source": [
    "# to look at the liat of unique names of the dog\n",
    "df_merged2.name.unique()"
   ]
  },
  {
   "cell_type": "code",
   "execution_count": null,
   "id": "10ce3786",
   "metadata": {},
   "outputs": [],
   "source": [
    "# After observing all the incorrect names, I was able to spot some names that were wrongly inputted"
   ]
  },
  {
   "cell_type": "code",
   "execution_count": 92,
   "id": "4c568c45",
   "metadata": {},
   "outputs": [],
   "source": [
    "# the list containing the inaccurate names \n",
    "wrong_names = ['O', 'his', 'my', 'space', 'a', 'an', 'not', 'very', 'just', 'all', 'by', 'the', 'this', ]"
   ]
  },
  {
   "cell_type": "code",
   "execution_count": 93,
   "id": "aa261a76",
   "metadata": {},
   "outputs": [
    {
     "data": {
      "text/plain": [
       "array(['a', 'an', 'the', 'space', 'just', 'by', 'very', 'all', 'this',\n",
       "       'his', 'not', 'my', 'O'], dtype=object)"
      ]
     },
     "execution_count": 93,
     "metadata": {},
     "output_type": "execute_result"
    }
   ],
   "source": [
    "# to confirm the elements of the list are present in the name column\n",
    "df_merged2.name[df_merged2.name.isin(wrong_names)].unique()"
   ]
  },
  {
   "cell_type": "markdown",
   "id": "13292337",
   "metadata": {},
   "source": [
    "Further Investigation was done to confirm the actual names and also confirm the rows which do not contain dog names then I discovered that\n",
    "\n",
    "- the name 'O' is for the name \"O'Malley\"\n",
    "- the name 'his' is for the name \"Quinzo\"\n",
    "- the name 'my' is for the name \"Zoey\"\n",
    "- the name 'space' is for the name \"space pup\"\n",
    "- the remaining names are meant to be \"None\" because it does not contain names"
   ]
  },
  {
   "cell_type": "code",
   "execution_count": null,
   "id": "5ac79770",
   "metadata": {},
   "outputs": [],
   "source": []
  },
  {
   "cell_type": "code",
   "execution_count": 94,
   "id": "bdb77350",
   "metadata": {},
   "outputs": [],
   "source": [
    "# the code to replace the wrong names with the correct replacement\n",
    "for name in wrong_names:\n",
    "    if name == 'O':\n",
    "        df_merged2.name.replace(name, \"O'Malley\", inplace = True)\n",
    "    elif name == 'his':\n",
    "        df_merged2.name.replace(name, \"Quinzo\", inplace = True)\n",
    "    elif name == 'my':\n",
    "        df_merged2.name.replace(name, \"Zoey\", inplace = True)\n",
    "    elif name == 'space':\n",
    "        df_merged2.name.replace(name, \"space pup\", inplace = True)\n",
    "    else:\n",
    "        df_merged2.name.replace(name, \"None\", inplace = True)"
   ]
  },
  {
   "cell_type": "markdown",
   "id": "7529a59e",
   "metadata": {},
   "source": [
    "I then used programmatic assessment to check for incorrect names and noticed a pattern for other wrong names"
   ]
  },
  {
   "cell_type": "code",
   "execution_count": 95,
   "id": "0634ffc7",
   "metadata": {},
   "outputs": [],
   "source": [
    "df_merged2['wrong_names'] = df_merged2['name'].str.extract(pat='(^[a-z]+)')\n",
    "more_wrong_names = df_merged2['wrong_names'].unique()"
   ]
  },
  {
   "cell_type": "code",
   "execution_count": 96,
   "id": "c9ebc6f7",
   "metadata": {},
   "outputs": [],
   "source": [
    "# to replace the newly found wrong names \n",
    "for name in more_wrong_names:\n",
    "    df_merged2.name.replace(name, \"None\", inplace = True)"
   ]
  },
  {
   "cell_type": "code",
   "execution_count": 98,
   "id": "c235fa2b",
   "metadata": {},
   "outputs": [],
   "source": [
    "# to drop the newly created column\n",
    "df_merged2.drop(\"wrong_names\", axis = 1, inplace = True)"
   ]
  },
  {
   "cell_type": "code",
   "execution_count": null,
   "id": "599eb74d",
   "metadata": {},
   "outputs": [],
   "source": []
  },
  {
   "cell_type": "markdown",
   "id": "4f6a3933",
   "metadata": {},
   "source": [
    "### test"
   ]
  },
  {
   "cell_type": "code",
   "execution_count": 99,
   "id": "6c11f3af",
   "metadata": {},
   "outputs": [],
   "source": [
    "# to confirm if the changes were made\n",
    "for name in wrong_names:\n",
    "    assert name not in df_merged2.name.values"
   ]
  },
  {
   "cell_type": "code",
   "execution_count": null,
   "id": "fe1052b5",
   "metadata": {},
   "outputs": [],
   "source": []
  },
  {
   "cell_type": "markdown",
   "id": "6f9ace8d",
   "metadata": {},
   "source": [
    "## quality issue #8¶"
   ]
  },
  {
   "cell_type": "markdown",
   "id": "dd973c20",
   "metadata": {},
   "source": [
    "### Define"
   ]
  },
  {
   "cell_type": "markdown",
   "id": "7244a6c7",
   "metadata": {},
   "source": [
    "In the name column, \"None\" was used to represent records for Dogs without Names. This should be represent with Nan"
   ]
  },
  {
   "cell_type": "markdown",
   "id": "0b3ec5b8",
   "metadata": {},
   "source": [
    "### code"
   ]
  },
  {
   "cell_type": "code",
   "execution_count": 101,
   "id": "4c8c3b45",
   "metadata": {},
   "outputs": [],
   "source": [
    "# to change None\" dog names to Nan\n",
    "df_merged2.name.replace('None', np.nan, inplace = True)"
   ]
  },
  {
   "cell_type": "markdown",
   "id": "6199cbd6",
   "metadata": {},
   "source": [
    "### test"
   ]
  },
  {
   "cell_type": "code",
   "execution_count": 102,
   "id": "47296d84",
   "metadata": {},
   "outputs": [],
   "source": [
    "# to confirm that the changes have been made\n",
    "assert \"None\" not in df_merged2.name.values"
   ]
  },
  {
   "cell_type": "code",
   "execution_count": 104,
   "id": "491b2d49",
   "metadata": {},
   "outputs": [],
   "source": [
    "for name in more_wrong_names:\n",
    "    assert name not in df_merged2.name.values"
   ]
  },
  {
   "cell_type": "code",
   "execution_count": null,
   "id": "25e7228a",
   "metadata": {},
   "outputs": [],
   "source": []
  },
  {
   "cell_type": "markdown",
   "id": "dfa2374b",
   "metadata": {},
   "source": [
    "### Storing to a csv file"
   ]
  },
  {
   "cell_type": "code",
   "execution_count": 119,
   "id": "94b44c3b",
   "metadata": {},
   "outputs": [],
   "source": [
    "# storing in a csv file called twitter_archive_master.csv\n",
    "df_merged2.to_csv(\"twitter_archive_master.csv\", index=False)"
   ]
  },
  {
   "cell_type": "markdown",
   "id": "a07d1bdd",
   "metadata": {},
   "source": [
    "# Data Analyzing and Visualization \n",
    "\n",
    "\n",
    "In this section, analyze and visualize your wrangled data. You must produce at least three (3) insights and one (1) visualization."
   ]
  },
  {
   "cell_type": "code",
   "execution_count": 120,
   "id": "d8c2c707",
   "metadata": {},
   "outputs": [],
   "source": [
    "df_twitter_archive_master = pd.read_csv('twitter_archive_master.csv')"
   ]
  },
  {
   "cell_type": "code",
   "execution_count": 106,
   "id": "421c0699",
   "metadata": {},
   "outputs": [
    {
     "data": {
      "text/plain": [
       "(12330, 23)"
      ]
     },
     "execution_count": 106,
     "metadata": {},
     "output_type": "execute_result"
    }
   ],
   "source": [
    "df_twitter_archive_master.shape"
   ]
  },
  {
   "cell_type": "code",
   "execution_count": 121,
   "id": "ffa62d29",
   "metadata": {},
   "outputs": [
    {
     "data": {
      "text/html": [
       "<div>\n",
       "<style scoped>\n",
       "    .dataframe tbody tr th:only-of-type {\n",
       "        vertical-align: middle;\n",
       "    }\n",
       "\n",
       "    .dataframe tbody tr th {\n",
       "        vertical-align: top;\n",
       "    }\n",
       "\n",
       "    .dataframe thead th {\n",
       "        text-align: right;\n",
       "    }\n",
       "</style>\n",
       "<table border=\"1\" class=\"dataframe\">\n",
       "  <thead>\n",
       "    <tr style=\"text-align: right;\">\n",
       "      <th></th>\n",
       "      <th>tweet_id</th>\n",
       "      <th>jpg_url</th>\n",
       "      <th>img_num</th>\n",
       "      <th>p1</th>\n",
       "      <th>p1_conf</th>\n",
       "      <th>p1_dog</th>\n",
       "      <th>p2</th>\n",
       "      <th>p2_conf</th>\n",
       "      <th>p2_dog</th>\n",
       "      <th>p3</th>\n",
       "      <th>...</th>\n",
       "      <th>favorite_count</th>\n",
       "      <th>timestamp</th>\n",
       "      <th>source</th>\n",
       "      <th>text</th>\n",
       "      <th>expanded_urls</th>\n",
       "      <th>rating_numerator</th>\n",
       "      <th>rating_denominator</th>\n",
       "      <th>name</th>\n",
       "      <th>dog_stages</th>\n",
       "      <th>dog_stages_name</th>\n",
       "    </tr>\n",
       "  </thead>\n",
       "  <tbody>\n",
       "    <tr>\n",
       "      <th>3306</th>\n",
       "      <td>677557565589463040</td>\n",
       "      <td>https://pbs.twimg.com/media/CWcrAVQWEAA6QMp.jpg</td>\n",
       "      <td>1</td>\n",
       "      <td>seat_belt</td>\n",
       "      <td>0.277257</td>\n",
       "      <td>False</td>\n",
       "      <td>Shih-Tzu</td>\n",
       "      <td>0.249017</td>\n",
       "      <td>True</td>\n",
       "      <td>Pekinese</td>\n",
       "      <td>...</td>\n",
       "      <td>2223</td>\n",
       "      <td>2015-12-17 18:34:46 +0000</td>\n",
       "      <td>Twitter for iPhone</td>\n",
       "      <td>Reckless pupper here. Not even looking at road...</td>\n",
       "      <td>https://twitter.com/dog_rates/status/677557565...</td>\n",
       "      <td>10</td>\n",
       "      <td>10</td>\n",
       "      <td>None</td>\n",
       "      <td>in_reply_to_user_id</td>\n",
       "      <td>NaN</td>\n",
       "    </tr>\n",
       "    <tr>\n",
       "      <th>11094</th>\n",
       "      <td>842535590457499648</td>\n",
       "      <td>https://pbs.twimg.com/media/C7FJpgVW4AIDzi6.jpg</td>\n",
       "      <td>1</td>\n",
       "      <td>Pembroke</td>\n",
       "      <td>0.685084</td>\n",
       "      <td>True</td>\n",
       "      <td>Cardigan</td>\n",
       "      <td>0.314608</td>\n",
       "      <td>True</td>\n",
       "      <td>basenji</td>\n",
       "      <td>...</td>\n",
       "      <td>16941</td>\n",
       "      <td>2017-03-17 00:38:32 +0000</td>\n",
       "      <td>Twitter for iPhone</td>\n",
       "      <td>This is Winnie. She lost her body saving a chi...</td>\n",
       "      <td>https://twitter.com/dog_rates/status/842535590...</td>\n",
       "      <td>13</td>\n",
       "      <td>10</td>\n",
       "      <td>Winnie</td>\n",
       "      <td>in_reply_to_user_id</td>\n",
       "      <td>NaN</td>\n",
       "    </tr>\n",
       "  </tbody>\n",
       "</table>\n",
       "<p>2 rows × 23 columns</p>\n",
       "</div>"
      ],
      "text/plain": [
       "                 tweet_id                                          jpg_url  \\\n",
       "3306   677557565589463040  https://pbs.twimg.com/media/CWcrAVQWEAA6QMp.jpg   \n",
       "11094  842535590457499648  https://pbs.twimg.com/media/C7FJpgVW4AIDzi6.jpg   \n",
       "\n",
       "       img_num         p1   p1_conf  p1_dog        p2   p2_conf  p2_dog  \\\n",
       "3306         1  seat_belt  0.277257   False  Shih-Tzu  0.249017    True   \n",
       "11094        1   Pembroke  0.685084    True  Cardigan  0.314608    True   \n",
       "\n",
       "             p3  ...  favorite_count                  timestamp  \\\n",
       "3306   Pekinese  ...            2223  2015-12-17 18:34:46 +0000   \n",
       "11094   basenji  ...           16941  2017-03-17 00:38:32 +0000   \n",
       "\n",
       "                   source                                               text  \\\n",
       "3306   Twitter for iPhone  Reckless pupper here. Not even looking at road...   \n",
       "11094  Twitter for iPhone  This is Winnie. She lost her body saving a chi...   \n",
       "\n",
       "                                           expanded_urls rating_numerator  \\\n",
       "3306   https://twitter.com/dog_rates/status/677557565...               10   \n",
       "11094  https://twitter.com/dog_rates/status/842535590...               13   \n",
       "\n",
       "      rating_denominator    name           dog_stages  dog_stages_name  \n",
       "3306                  10    None  in_reply_to_user_id              NaN  \n",
       "11094                 10  Winnie  in_reply_to_user_id              NaN  \n",
       "\n",
       "[2 rows x 23 columns]"
      ]
     },
     "execution_count": 121,
     "metadata": {},
     "output_type": "execute_result"
    }
   ],
   "source": [
    "df_twitter_archive_master.sample(2)"
   ]
  },
  {
   "cell_type": "code",
   "execution_count": 108,
   "id": "e06deef7",
   "metadata": {},
   "outputs": [
    {
     "data": {
      "text/html": [
       "<div>\n",
       "<style scoped>\n",
       "    .dataframe tbody tr th:only-of-type {\n",
       "        vertical-align: middle;\n",
       "    }\n",
       "\n",
       "    .dataframe tbody tr th {\n",
       "        vertical-align: top;\n",
       "    }\n",
       "\n",
       "    .dataframe thead th {\n",
       "        text-align: right;\n",
       "    }\n",
       "</style>\n",
       "<table border=\"1\" class=\"dataframe\">\n",
       "  <thead>\n",
       "    <tr style=\"text-align: right;\">\n",
       "      <th></th>\n",
       "      <th>tweet_id</th>\n",
       "      <th>img_num</th>\n",
       "      <th>p1_conf</th>\n",
       "      <th>p2_conf</th>\n",
       "      <th>p3_conf</th>\n",
       "      <th>retweet_count</th>\n",
       "      <th>favorite_count</th>\n",
       "      <th>rating_numerator</th>\n",
       "      <th>rating_denominator</th>\n",
       "    </tr>\n",
       "  </thead>\n",
       "  <tbody>\n",
       "    <tr>\n",
       "      <th>count</th>\n",
       "      <td>1.233000e+04</td>\n",
       "      <td>12330.000000</td>\n",
       "      <td>12330.000000</td>\n",
       "      <td>1.233000e+04</td>\n",
       "      <td>1.233000e+04</td>\n",
       "      <td>12330.000000</td>\n",
       "      <td>12330.000000</td>\n",
       "      <td>12330.000000</td>\n",
       "      <td>12330.000000</td>\n",
       "    </tr>\n",
       "    <tr>\n",
       "      <th>mean</th>\n",
       "      <td>7.378048e+17</td>\n",
       "      <td>1.204380</td>\n",
       "      <td>0.594230</td>\n",
       "      <td>1.348049e-01</td>\n",
       "      <td>6.041897e-02</td>\n",
       "      <td>2365.018491</td>\n",
       "      <td>7448.430657</td>\n",
       "      <td>12.266667</td>\n",
       "      <td>10.516302</td>\n",
       "    </tr>\n",
       "    <tr>\n",
       "      <th>std</th>\n",
       "      <td>6.757601e+16</td>\n",
       "      <td>0.563364</td>\n",
       "      <td>0.271081</td>\n",
       "      <td>1.006821e-01</td>\n",
       "      <td>5.097698e-02</td>\n",
       "      <td>4133.397556</td>\n",
       "      <td>11266.894496</td>\n",
       "      <td>40.869386</td>\n",
       "      <td>7.210288</td>\n",
       "    </tr>\n",
       "    <tr>\n",
       "      <th>min</th>\n",
       "      <td>6.660209e+17</td>\n",
       "      <td>1.000000</td>\n",
       "      <td>0.044333</td>\n",
       "      <td>1.011300e-08</td>\n",
       "      <td>1.740170e-10</td>\n",
       "      <td>11.000000</td>\n",
       "      <td>0.000000</td>\n",
       "      <td>0.000000</td>\n",
       "      <td>2.000000</td>\n",
       "    </tr>\n",
       "    <tr>\n",
       "      <th>25%</th>\n",
       "      <td>6.762197e+17</td>\n",
       "      <td>1.000000</td>\n",
       "      <td>0.363272</td>\n",
       "      <td>5.390140e-02</td>\n",
       "      <td>1.624560e-02</td>\n",
       "      <td>501.000000</td>\n",
       "      <td>1406.000000</td>\n",
       "      <td>10.000000</td>\n",
       "      <td>10.000000</td>\n",
       "    </tr>\n",
       "    <tr>\n",
       "      <th>50%</th>\n",
       "      <td>7.110080e+17</td>\n",
       "      <td>1.000000</td>\n",
       "      <td>0.587764</td>\n",
       "      <td>1.186470e-01</td>\n",
       "      <td>4.948690e-02</td>\n",
       "      <td>1116.000000</td>\n",
       "      <td>3255.000000</td>\n",
       "      <td>11.000000</td>\n",
       "      <td>10.000000</td>\n",
       "    </tr>\n",
       "    <tr>\n",
       "      <th>75%</th>\n",
       "      <td>7.929134e+17</td>\n",
       "      <td>1.000000</td>\n",
       "      <td>0.843911</td>\n",
       "      <td>1.959500e-01</td>\n",
       "      <td>9.219820e-02</td>\n",
       "      <td>2722.000000</td>\n",
       "      <td>9283.000000</td>\n",
       "      <td>12.000000</td>\n",
       "      <td>10.000000</td>\n",
       "    </tr>\n",
       "    <tr>\n",
       "      <th>max</th>\n",
       "      <td>8.924206e+17</td>\n",
       "      <td>4.000000</td>\n",
       "      <td>1.000000</td>\n",
       "      <td>4.880140e-01</td>\n",
       "      <td>2.734190e-01</td>\n",
       "      <td>70734.000000</td>\n",
       "      <td>144877.000000</td>\n",
       "      <td>1776.000000</td>\n",
       "      <td>170.000000</td>\n",
       "    </tr>\n",
       "  </tbody>\n",
       "</table>\n",
       "</div>"
      ],
      "text/plain": [
       "           tweet_id       img_num       p1_conf       p2_conf       p3_conf  \\\n",
       "count  1.233000e+04  12330.000000  12330.000000  1.233000e+04  1.233000e+04   \n",
       "mean   7.378048e+17      1.204380      0.594230  1.348049e-01  6.041897e-02   \n",
       "std    6.757601e+16      0.563364      0.271081  1.006821e-01  5.097698e-02   \n",
       "min    6.660209e+17      1.000000      0.044333  1.011300e-08  1.740170e-10   \n",
       "25%    6.762197e+17      1.000000      0.363272  5.390140e-02  1.624560e-02   \n",
       "50%    7.110080e+17      1.000000      0.587764  1.186470e-01  4.948690e-02   \n",
       "75%    7.929134e+17      1.000000      0.843911  1.959500e-01  9.219820e-02   \n",
       "max    8.924206e+17      4.000000      1.000000  4.880140e-01  2.734190e-01   \n",
       "\n",
       "       retweet_count  favorite_count  rating_numerator  rating_denominator  \n",
       "count   12330.000000    12330.000000      12330.000000        12330.000000  \n",
       "mean     2365.018491     7448.430657         12.266667           10.516302  \n",
       "std      4133.397556    11266.894496         40.869386            7.210288  \n",
       "min        11.000000        0.000000          0.000000            2.000000  \n",
       "25%       501.000000     1406.000000         10.000000           10.000000  \n",
       "50%      1116.000000     3255.000000         11.000000           10.000000  \n",
       "75%      2722.000000     9283.000000         12.000000           10.000000  \n",
       "max     70734.000000   144877.000000       1776.000000          170.000000  "
      ]
     },
     "execution_count": 108,
     "metadata": {},
     "output_type": "execute_result"
    }
   ],
   "source": [
    "df_twitter_archive_master.describe()"
   ]
  },
  {
   "cell_type": "code",
   "execution_count": null,
   "id": "5395dedc",
   "metadata": {},
   "outputs": [],
   "source": [
    "\n"
   ]
  },
  {
   "cell_type": "code",
   "execution_count": null,
   "id": "604952b7",
   "metadata": {},
   "outputs": [],
   "source": []
  },
  {
   "cell_type": "markdown",
   "id": "b02de7f2",
   "metadata": {},
   "source": [
    "## Q1: How is source of tweet distributed?"
   ]
  },
  {
   "cell_type": "code",
   "execution_count": 122,
   "id": "7312a98d",
   "metadata": {},
   "outputs": [
    {
     "data": {
      "text/plain": [
       "Twitter for iPhone    12090\n",
       "Twitter Web Client      180\n",
       "TweetDeck                60\n",
       "Name: source, dtype: int64"
      ]
     },
     "execution_count": 122,
     "metadata": {},
     "output_type": "execute_result"
    }
   ],
   "source": [
    "df_twitter_archive_master['source'].value_counts()\n"
   ]
  },
  {
   "cell_type": "code",
   "execution_count": null,
   "id": "574def68",
   "metadata": {},
   "outputs": [],
   "source": [
    "#To set the title\n",
    "plt.title('Your fancy title')\n",
    "#To set the labels\n",
    "plt.xlabel('Your fancy X-axis name')\n",
    "plt.ylabel('Your fancy Y-axis name')"
   ]
  },
  {
   "cell_type": "code",
   "execution_count": null,
   "id": "4b632c11",
   "metadata": {},
   "outputs": [],
   "source": [
    "colors=['Blue', 'Grey', 'Grey',]"
   ]
  },
  {
   "cell_type": "code",
   "execution_count": 130,
   "id": "bf5c411f",
   "metadata": {},
   "outputs": [
    {
     "data": {
      "text/plain": [
       "Text(0, 0.5, 'Number of tweets')"
      ]
     },
     "execution_count": 130,
     "metadata": {},
     "output_type": "execute_result"
    },
    {
     "data": {
      "image/png": "[encoded data removed]",
      "text/plain": [
       "<Figure size 576x576 with 1 Axes>"
      ]
     },
     "metadata": {
      "needs_background": "light"
     },
     "output_type": "display_data"
    }
   ],
   "source": [
    "df_twitter_archive_master['source'].value_counts().plot(kind='bar', figsize=(8,8),color=colors,)\n",
    "plt.title('Source of Tweets', fontsize=18)\n",
    "plt.xlabel('Device used for tweeting',fontsize=14)\n",
    "plt.ylabel('Number of tweets', fontsize=14)"
   ]
  },
  {
   "cell_type": "markdown",
   "id": "0f0d4815",
   "metadata": {},
   "source": [
    "#### COMMENT: The Visual above shows that majority of the tweets were from  Iphone"
   ]
  },
  {
   "cell_type": "code",
   "execution_count": null,
   "id": "151c961e",
   "metadata": {},
   "outputs": [],
   "source": []
  },
  {
   "cell_type": "markdown",
   "id": "cffef3a0",
   "metadata": {},
   "source": [
    "## Q2: Which phone source gave most retweets ?"
   ]
  },
  {
   "cell_type": "code",
   "execution_count": null,
   "id": "480c6637",
   "metadata": {},
   "outputs": [],
   "source": []
  },
  {
   "cell_type": "code",
   "execution_count": 131,
   "id": "91570768",
   "metadata": {},
   "outputs": [
    {
     "data": {
      "text/plain": [
       "source\n",
       "Twitter for iPhone    2374.681886\n",
       "Twitter Web Client    1949.700000\n",
       "TweetDeck             1663.800000\n",
       "Name: retweet_count, dtype: float64"
      ]
     },
     "execution_count": 131,
     "metadata": {},
     "output_type": "execute_result"
    }
   ],
   "source": [
    "df_twitter_archive_master.groupby('source')['retweet_count'].mean().sort_values(ascending=False)"
   ]
  },
  {
   "cell_type": "code",
   "execution_count": 181,
   "id": "900c6d4b",
   "metadata": {},
   "outputs": [],
   "source": [
    "colors=['Blue', 'Grey', 'Grey', 'Grey', 'Grey', 'Grey']"
   ]
  },
  {
   "cell_type": "code",
   "execution_count": 132,
   "id": "18f2850b",
   "metadata": {},
   "outputs": [
    {
     "data": {
      "text/plain": [
       "Text(0.5, 0, 'phone source')"
      ]
     },
     "execution_count": 132,
     "metadata": {},
     "output_type": "execute_result"
    },
    {
     "data": {
      "image/png": "[encoded data removed]",
      "text/plain": [
       "<Figure size 720x432 with 1 Axes>"
      ]
     },
     "metadata": {
      "needs_background": "light"
     },
     "output_type": "display_data"
    }
   ],
   "source": [
    "df_twitter_archive_master.groupby('source')['retweet_count'].mean().sort_values(ascending=False).plot(kind='bar', color=colors, figsize=(10,6))\n",
    "plt.title('Average retweet counts by phone source', fontsize=18)\n",
    "plt.ylabel('Retweet counts', fontsize=14)\n",
    "plt.xlabel('phone source', fontsize=14)"
   ]
  },
  {
   "cell_type": "markdown",
   "id": "d01e70be",
   "metadata": {},
   "source": [
    "#### COMMENT: We can see that the chart shows most retweets count came from twitter web client"
   ]
  },
  {
   "cell_type": "code",
   "execution_count": null,
   "id": "88ba8394",
   "metadata": {},
   "outputs": [],
   "source": []
  },
  {
   "cell_type": "markdown",
   "id": "ffdfb973",
   "metadata": {},
   "source": [
    "### Q3: Which phone source gave most favourite counts?"
   ]
  },
  {
   "cell_type": "code",
   "execution_count": null,
   "id": "aa0219c5",
   "metadata": {},
   "outputs": [],
   "source": []
  },
  {
   "cell_type": "code",
   "execution_count": 133,
   "id": "5abdedcf",
   "metadata": {},
   "outputs": [
    {
     "data": {
      "text/plain": [
       "source\n",
       "Twitter for iPhone    7505.605955\n",
       "Twitter Web Client    4805.233333\n",
       "TweetDeck             3857.200000\n",
       "Name: favorite_count, dtype: float64"
      ]
     },
     "execution_count": 133,
     "metadata": {},
     "output_type": "execute_result"
    }
   ],
   "source": [
    "df_twitter_archive_master.groupby('source')['favorite_count'].mean().sort_values(ascending=False)"
   ]
  },
  {
   "cell_type": "code",
   "execution_count": 134,
   "id": "4cec26d4",
   "metadata": {},
   "outputs": [],
   "source": [
    "colors=['Blue', 'Grey', 'Grey', 'Grey', 'Grey', 'Grey']"
   ]
  },
  {
   "cell_type": "code",
   "execution_count": 187,
   "id": "52392866",
   "metadata": {},
   "outputs": [
    {
     "data": {
      "text/plain": [
       "Text(0.5, 0, 'phone source')"
      ]
     },
     "execution_count": 187,
     "metadata": {},
     "output_type": "execute_result"
    },
    {
     "data": {
      "image/png": "[encoded data removed]",
      "text/plain": [
       "<Figure size 720x432 with 1 Axes>"
      ]
     },
     "metadata": {
      "needs_background": "light"
     },
     "output_type": "display_data"
    }
   ],
   "source": [
    "df_twitter_archive_master.groupby('source')['favorite_count'].mean().sort_values(ascending=False).plot(kind='bar', color=colors, figsize=(10,6))\n",
    "plt.title('Average Favourite counts by phone source', fontsize=18)\n",
    "plt.ylabel('Favourite counts', fontsize=14)\n",
    "plt.xlabel('phone source', fontsize=14)"
   ]
  },
  {
   "cell_type": "markdown",
   "id": "efed7eae",
   "metadata": {},
   "source": [
    "#### COMMENT: We can see that the chart shows most fovorite count came from twitter for iphone"
   ]
  },
  {
   "cell_type": "code",
   "execution_count": null,
   "id": "dac5604f",
   "metadata": {},
   "outputs": [],
   "source": []
  },
  {
   "cell_type": "markdown",
   "id": "25e7786f",
   "metadata": {},
   "source": [
    "### Q4: Is there any correlation between retweets and likes?"
   ]
  },
  {
   "cell_type": "code",
   "execution_count": 190,
   "id": "a35112b5",
   "metadata": {},
   "outputs": [
    {
     "data": {
      "text/plain": [
       "Text(0, 0.5, 'LIkes')"
      ]
     },
     "execution_count": 190,
     "metadata": {},
     "output_type": "execute_result"
    },
    {
     "data": {
      "image/png": "[encoded data removed]",
      "text/plain": [
       "<Figure size 720x432 with 1 Axes>"
      ]
     },
     "metadata": {
      "needs_background": "light"
     },
     "output_type": "display_data"
    }
   ],
   "source": [
    "df_twitter_archive_master.plot(x = \"retweet_count\", y = \"favorite_count\", kind ='scatter', figsize=(10,6))\n",
    "plt.title('Correlation between Retweets and Likes', fontsize=18)\n",
    "plt.xlabel('Retweets', fontsize=14)\n",
    "plt.ylabel('LIkes', fontsize=14)"
   ]
  },
  {
   "cell_type": "markdown",
   "id": "48c8c3ff",
   "metadata": {},
   "source": [
    "#### Comments: there is a positive corroletion between likes and retweets"
   ]
  },
  {
   "cell_type": "code",
   "execution_count": null,
   "id": "521b42fe",
   "metadata": {},
   "outputs": [],
   "source": []
  },
  {
   "cell_type": "markdown",
   "id": "d3d19107",
   "metadata": {},
   "source": [
    "### Conclusions\n",
    "\n",
    "Finally, The findings are summarized along with the results that have been performed in relation to the question(s) provided at the beginning of the analysis.\n",
    "\n",
    "The Visual above shows that majority of the tweets were from  Iphone.\n",
    "\n",
    "We can see that the chart shows most retweets count came from twitter web client.\n",
    "\n",
    "We can see that the chart shows most fovorite count came from twitter for iphone\n",
    "\n",
    "there is a positive corroletion between likes and retweets\n",
    "\n",
    "\n",
    "\n",
    "### Limitations\n",
    "Over 1000 of the tweets do not contain Dog stages. This is due for further investigation\n",
    "\n",
    "Some Dogs do not have names\n",
    "\n"
   ]
  },
  {
   "cell_type": "code",
   "execution_count": null,
   "id": "6d3016d9",
   "metadata": {},
   "outputs": [],
   "source": []
  }
 ],
 "metadata": {
  "kernelspec": {
   "display_name": "Python 3 (ipykernel)",
   "language": "python",
   "name": "python3"
  },
  "language_info": {
   "codemirror_mode": {
    "name": "ipython",
    "version": 3
   },
   "file_extension": ".py",
   "mimetype": "text/x-python",
   "name": "python",
   "nbconvert_exporter": "python",
   "pygments_lexer": "ipython3",
   "version": "3.10.4"
  }
 },
 "nbformat": 4,
 "nbformat_minor": 5
}
